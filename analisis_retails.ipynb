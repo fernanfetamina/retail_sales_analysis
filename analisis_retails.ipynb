{
 "cells": [
  {
   "cell_type": "markdown",
   "source": "# Análisis de los 25 retailers más grandes de Estados Unidos",
   "metadata": {
    "formattedRanges": [],
    "cell_id": "1df879a0-53cd-4031-a50b-2c2fe17304a4",
    "tags": [],
    "is_collapsed": false,
    "deepnote_cell_type": "text-cell-h1",
    "deepnote_cell_height": 134
   }
  },
  {
   "cell_type": "code",
   "metadata": {
    "tags": [],
    "cell_id": "3347a937-91c3-4305-b06c-213bb2f3bcaf",
    "deepnote_to_be_reexecuted": false,
    "source_hash": "24b26b86",
    "execution_start": 1645566793354,
    "execution_millis": 6664,
    "deepnote_cell_type": "code",
    "deepnote_cell_height": 135
   },
   "source": "import pandas as pd\nimport numpy as np\nimport matplotlib.pyplot as plt\nimport seaborn as sns",
   "execution_count": null,
   "outputs": []
  },
  {
   "cell_type": "code",
   "metadata": {
    "cell_id": "081fdaf2-888a-4a54-9495-467464cfc400",
    "tags": [],
    "deepnote_to_be_reexecuted": false,
    "source_hash": "3fb12d7a",
    "execution_start": 1645566800032,
    "execution_millis": 200,
    "deepnote_cell_type": "code",
    "deepnote_cell_height": 314
   },
   "source": "#Importando archivo\ndf = pd.read_csv('/work/largest_us_retailers_9b00dc73-a938-46cd-af17-fcb2bd67301f.csv')\ndf.head(4)",
   "execution_count": null,
   "outputs": [
    {
     "output_type": "execute_result",
     "execution_count": 2,
     "data": {
      "application/vnd.deepnote.dataframe.v3+json": {
       "column_count": 6,
       "row_count": 4,
       "columns": [
        {
         "name": "Company",
         "dtype": "object",
         "stats": {
          "unique_count": 4,
          "nan_count": 0,
          "categories": [
           {
            "name": "Walmart US",
            "count": 1
           },
           {
            "name": "Kroger",
            "count": 1
           },
           {
            "name": "2 others",
            "count": 2
           }
          ]
         }
        },
        {
         "name": "Sales",
         "dtype": "int64",
         "stats": {
          "unique_count": 4,
          "nan_count": 0,
          "min": "83976",
          "max": "658119",
          "histogram": [
           {
            "bin_start": 83976,
            "bin_end": 141390.3,
            "count": 3
           },
           {
            "bin_start": 141390.3,
            "bin_end": 198804.6,
            "count": 0
           },
           {
            "bin_start": 198804.6,
            "bin_end": 256218.90000000002,
            "count": 0
           },
           {
            "bin_start": 256218.90000000002,
            "bin_end": 313633.2,
            "count": 0
           },
           {
            "bin_start": 313633.2,
            "bin_end": 371047.5,
            "count": 0
           },
           {
            "bin_start": 371047.5,
            "bin_end": 428461.80000000005,
            "count": 0
           },
           {
            "bin_start": 428461.80000000005,
            "bin_end": 485876.10000000003,
            "count": 0
           },
           {
            "bin_start": 485876.10000000003,
            "bin_end": 543290.4,
            "count": 0
           },
           {
            "bin_start": 543290.4,
            "bin_end": 600704.7,
            "count": 0
           },
           {
            "bin_start": 600704.7,
            "bin_end": 658119,
            "count": 1
           }
          ]
         }
        },
        {
         "name": "Stores",
         "dtype": "float64",
         "stats": {
          "unique_count": 4,
          "nan_count": 0,
          "min": "495.0",
          "max": "4574.0",
          "histogram": [
           {
            "bin_start": 495,
            "bin_end": 902.9,
            "count": 1
           },
           {
            "bin_start": 902.9,
            "bin_end": 1310.8,
            "count": 0
           },
           {
            "bin_start": 1310.8,
            "bin_end": 1718.6999999999998,
            "count": 0
           },
           {
            "bin_start": 1718.6999999999998,
            "bin_end": 2126.6,
            "count": 1
           },
           {
            "bin_start": 2126.6,
            "bin_end": 2534.5,
            "count": 0
           },
           {
            "bin_start": 2534.5,
            "bin_end": 2942.3999999999996,
            "count": 0
           },
           {
            "bin_start": 2942.3999999999996,
            "bin_end": 3350.2999999999997,
            "count": 0
           },
           {
            "bin_start": 3350.2999999999997,
            "bin_end": 3758.2,
            "count": 0
           },
           {
            "bin_start": 3758.2,
            "bin_end": 4166.1,
            "count": 1
           },
           {
            "bin_start": 4166.1,
            "bin_end": 4574,
            "count": 1
           }
          ]
         }
        },
        {
         "name": "Sales/Avg. Store",
         "dtype": "float64",
         "stats": {
          "unique_count": 4,
          "nan_count": 0,
          "min": "30.03184963",
          "max": "187.7956204",
          "histogram": [
           {
            "bin_start": 30.03184963,
            "bin_end": 45.808226706999996,
            "count": 2
           },
           {
            "bin_start": 45.808226706999996,
            "bin_end": 61.584603783999995,
            "count": 0
           },
           {
            "bin_start": 61.584603783999995,
            "bin_end": 77.36098086099999,
            "count": 1
           },
           {
            "bin_start": 77.36098086099999,
            "bin_end": 93.137357938,
            "count": 0
           },
           {
            "bin_start": 93.137357938,
            "bin_end": 108.91373501499999,
            "count": 0
           },
           {
            "bin_start": 108.91373501499999,
            "bin_end": 124.69011209199998,
            "count": 0
           },
           {
            "bin_start": 124.69011209199998,
            "bin_end": 140.466489169,
            "count": 0
           },
           {
            "bin_start": 140.466489169,
            "bin_end": 156.24286624599998,
            "count": 0
           },
           {
            "bin_start": 156.24286624599998,
            "bin_end": 172.01924332299998,
            "count": 0
           },
           {
            "bin_start": 172.01924332299998,
            "bin_end": 187.7956204,
            "count": 1
           }
          ]
         }
        },
        {
         "name": "Store Count Growth",
         "dtype": "float64",
         "stats": {
          "unique_count": 4,
          "nan_count": 0,
          "min": "0.0",
          "max": "0.06681034483",
          "histogram": [
           {
            "bin_start": 0,
            "bin_end": 0.006681034483000001,
            "count": 1
           },
           {
            "bin_start": 0.006681034483000001,
            "bin_end": 0.013362068966000002,
            "count": 1
           },
           {
            "bin_start": 0.013362068966000002,
            "bin_end": 0.020043103449000003,
            "count": 0
           },
           {
            "bin_start": 0.020043103449000003,
            "bin_end": 0.026724137932000003,
            "count": 0
           },
           {
            "bin_start": 0.026724137932000003,
            "bin_end": 0.033405172415,
            "count": 0
           },
           {
            "bin_start": 0.033405172415,
            "bin_end": 0.04008620689800001,
            "count": 0
           },
           {
            "bin_start": 0.04008620689800001,
            "bin_end": 0.046767241381,
            "count": 0
           },
           {
            "bin_start": 0.046767241381,
            "bin_end": 0.05344827586400001,
            "count": 0
           },
           {
            "bin_start": 0.05344827586400001,
            "bin_end": 0.06012931034700001,
            "count": 1
           },
           {
            "bin_start": 0.06012931034700001,
            "bin_end": 0.06681034483,
            "count": 1
           }
          ]
         }
        },
        {
         "name": "Category",
         "dtype": "object",
         "stats": {
          "unique_count": 4,
          "nan_count": 0,
          "categories": [
           {
            "name": "Supercenters",
            "count": 1
           },
           {
            "name": "Grocery",
            "count": 1
           },
           {
            "name": "2 others",
            "count": 2
           }
          ]
         }
        },
        {
         "name": "_deepnote_index_column",
         "dtype": "int64"
        }
       ],
       "rows": [
        {
         "Company": "Walmart US",
         "Sales": 658119,
         "Stores": 4574,
         "Sales/Avg. Store": 65.64972497,
         "Store Count Growth": 0.01284322409,
         "Category": "Supercenters",
         "_deepnote_index_column": 0
        },
        {
         "Company": "Kroger",
         "Sales": 115037,
         "Stores": 3931,
         "Sales/Avg. Store": 30.03184963,
         "Store Count Growth": 0.05388739946,
         "Category": "Grocery",
         "_deepnote_index_column": 1
        },
        {
         "Company": "Costco",
         "Sales": 90048,
         "Stores": 495,
         "Sales/Avg. Store": 187.7956204,
         "Store Count Growth": 0.06681034483,
         "Category": "Warehouse Club",
         "_deepnote_index_column": 2
        },
        {
         "Company": "Home Depot",
         "Sales": 83976,
         "Stores": 1965,
         "Sales/Avg. Store": 42.73587786,
         "Store Count Growth": 0,
         "Category": "Home Improvement",
         "_deepnote_index_column": 3
        }
       ]
      },
      "text/plain": "      Company   Sales  Stores  Sales/Avg. Store  Store Count Growth  \\\n0  Walmart US  658119  4574.0         65.649725            0.012843   \n1      Kroger  115037  3931.0         30.031850            0.053887   \n2      Costco   90048   495.0        187.795620            0.066810   \n3  Home Depot   83976  1965.0         42.735878            0.000000   \n\n           Category  \n0      Supercenters  \n1           Grocery  \n2    Warehouse Club  \n3  Home Improvement  ",
      "text/html": "<div>\n<style scoped>\n    .dataframe tbody tr th:only-of-type {\n        vertical-align: middle;\n    }\n\n    .dataframe tbody tr th {\n        vertical-align: top;\n    }\n\n    .dataframe thead th {\n        text-align: right;\n    }\n</style>\n<table border=\"1\" class=\"dataframe\">\n  <thead>\n    <tr style=\"text-align: right;\">\n      <th></th>\n      <th>Company</th>\n      <th>Sales</th>\n      <th>Stores</th>\n      <th>Sales/Avg. Store</th>\n      <th>Store Count Growth</th>\n      <th>Category</th>\n    </tr>\n  </thead>\n  <tbody>\n    <tr>\n      <th>0</th>\n      <td>Walmart US</td>\n      <td>658119</td>\n      <td>4574.0</td>\n      <td>65.649725</td>\n      <td>0.012843</td>\n      <td>Supercenters</td>\n    </tr>\n    <tr>\n      <th>1</th>\n      <td>Kroger</td>\n      <td>115037</td>\n      <td>3931.0</td>\n      <td>30.031850</td>\n      <td>0.053887</td>\n      <td>Grocery</td>\n    </tr>\n    <tr>\n      <th>2</th>\n      <td>Costco</td>\n      <td>90048</td>\n      <td>495.0</td>\n      <td>187.795620</td>\n      <td>0.066810</td>\n      <td>Warehouse Club</td>\n    </tr>\n    <tr>\n      <th>3</th>\n      <td>Home Depot</td>\n      <td>83976</td>\n      <td>1965.0</td>\n      <td>42.735878</td>\n      <td>0.000000</td>\n      <td>Home Improvement</td>\n    </tr>\n  </tbody>\n</table>\n</div>"
     },
     "metadata": {}
    }
   ]
  },
  {
   "cell_type": "code",
   "metadata": {
    "cell_id": "3f26a52e-6868-4090-8763-3ece641c7cf9",
    "tags": [],
    "deepnote_to_be_reexecuted": false,
    "source_hash": "21ae7e41",
    "execution_start": 1645566800260,
    "execution_millis": 10,
    "deepnote_cell_type": "code",
    "deepnote_cell_height": 233.34375,
    "deepnote_output_heights": [
     136.359375
    ]
   },
   "source": "#Revisando las columnas y su tipo\ndf.dtypes",
   "execution_count": null,
   "outputs": [
    {
     "output_type": "execute_result",
     "execution_count": 3,
     "data": {
      "text/plain": "Company                object\nSales                   int64\nStores                float64\nSales/Avg. Store      float64\nStore Count Growth    float64\nCategory               object\ndtype: object"
     },
     "metadata": {}
    }
   ]
  },
  {
   "cell_type": "markdown",
   "source": "## I. Preguntas del negocio",
   "metadata": {
    "formattedRanges": [],
    "cell_id": "cc141631-e246-41c7-a56b-ad74255d674f",
    "tags": [],
    "is_collapsed": false,
    "deepnote_cell_type": "text-cell-h2",
    "deepnote_cell_height": 70
   }
  },
  {
   "cell_type": "markdown",
   "source": "### 1. ¿Cuál es el promedio de ventas sin contar a la compañía dominante?",
   "metadata": {
    "cell_id": "b919b92e-0df3-4f54-b093-c1db040bc4aa",
    "tags": [],
    "deepnote_cell_type": "markdown",
    "deepnote_cell_height": 62
   }
  },
  {
   "cell_type": "markdown",
   "source": "#### Primero identifiquemos cuál es la compañía dominante:",
   "metadata": {
    "cell_id": "cd83a9bb-db02-4301-897c-f340ea85c03a",
    "tags": [],
    "deepnote_cell_type": "markdown"
   }
  },
  {
   "cell_type": "code",
   "metadata": {
    "cell_id": "29d0ea13-edf4-4f27-a956-e3e4565afaf5",
    "tags": [],
    "deepnote_to_be_reexecuted": false,
    "source_hash": "15967f0b",
    "execution_start": 1645584514112,
    "execution_millis": 0,
    "deepnote_cell_type": "code"
   },
   "source": "df['Sales'].max()",
   "execution_count": null,
   "outputs": [
    {
     "output_type": "execute_result",
     "execution_count": 257,
     "data": {
      "text/plain": "658119"
     },
     "metadata": {}
    }
   ]
  },
  {
   "cell_type": "markdown",
   "source": "#### La compañía dominante <font color='firebrick'> es Walmart</font>, ya que posee ventas por 658,119. Ahora saquemos el promedio excluyendola: ",
   "metadata": {
    "cell_id": "9a10fac0-f928-4e72-8ed1-92babf509394",
    "tags": [],
    "deepnote_cell_type": "markdown"
   }
  },
  {
   "cell_type": "code",
   "metadata": {
    "cell_id": "d0684d2b-d018-42ad-9b48-b545aae09eec",
    "tags": [],
    "deepnote_to_be_reexecuted": false,
    "source_hash": "6043a114",
    "execution_start": 1645568926116,
    "execution_millis": 3,
    "deepnote_table_state": {
     "pageSize": 10,
     "pageIndex": 2,
     "filters": [],
     "sortBy": []
    },
    "deepnote_table_loading": false,
    "deepnote_cell_type": "code",
    "deepnote_cell_height": 118.171875,
    "deepnote_output_heights": [
     21.1875
    ]
   },
   "source": "#Promedio de ventas excluyendo Walmart. \ndf2 = df['Sales'].loc[df['Sales'] <658119]\nprom_ventas = df2.mean()\nprom_ventas.round(decimals=0)\n",
   "execution_count": null,
   "outputs": [
    {
     "output_type": "execute_result",
     "execution_count": 80,
     "data": {
      "text/plain": "46602.0"
     },
     "metadata": {}
    }
   ]
  },
  {
   "cell_type": "markdown",
   "source": "#### El promedio de ventas, sin contar Walmart es de <font color='firebrick'>46,602.</font>\n#### En este gráfico lo podemos ver de manera más clara a través de la <font color='firebrick'>línea roja de en medio:",
   "metadata": {
    "cell_id": "03ee1f8f-5853-48af-ae8a-f5f3ca9a2def",
    "tags": [],
    "deepnote_cell_type": "markdown"
   }
  },
  {
   "cell_type": "code",
   "metadata": {
    "cell_id": "4f026098-2a98-4ebe-b329-e2670c4e054c",
    "tags": [],
    "deepnote_to_be_reexecuted": false,
    "source_hash": "63e63ce9",
    "execution_start": 1645571745660,
    "execution_millis": 922,
    "deepnote_cell_type": "code"
   },
   "source": "sns.set(rc={'figure.figsize':(11.7,8.27)})\nsns.barplot(x=df['Sales'][1:25], y= df['Company'][1:25], data=df, color = 'darkturquoise')\nplt.axvline(x=df['Sales'][1:25].mean(), color= 'indianred', linewidth = 10, linestyle = 'dotted')\nplt.text(50000.0,13,'Promedio de Ventas 46,602',rotation=0, size= 20, color= 'indianred')",
   "execution_count": null,
   "outputs": [
    {
     "output_type": "execute_result",
     "execution_count": 131,
     "data": {
      "text/plain": "Text(50000.0, 13, 'Promedio de Ventas 46,602')"
     },
     "metadata": {}
    },
    {
     "data": {
      "text/plain": "<Figure size 842.4x595.44 with 1 Axes>",
      "image/png": "[encoded data removed]"
     },
     "metadata": {
      "image/png": {
       "width": 807,
       "height": 500
      }
     },
     "output_type": "display_data"
    }
   ]
  },
  {
   "cell_type": "markdown",
   "source": "<br>",
   "metadata": {
    "cell_id": "9ab8db16-8f1b-4b09-94fc-06d32257638d",
    "tags": [],
    "deepnote_to_be_reexecuted": false,
    "source_hash": "8d0311df",
    "execution_start": 1645571678988,
    "execution_millis": 1,
    "deepnote_cell_type": "markdown"
   }
  },
  {
   "cell_type": "markdown",
   "source": "<hr style=\"height:1.5px;border-width:0;color:black;background-color:gray\">",
   "metadata": {
    "cell_id": "5a537410-94e8-4988-a0ee-e1561a39e18c",
    "tags": [],
    "deepnote_to_be_reexecuted": false,
    "source_hash": "c50c04e6",
    "execution_start": 1645571999584,
    "execution_millis": 2,
    "deepnote_cell_type": "markdown"
   }
  },
  {
   "cell_type": "markdown",
   "source": "### 2. ¿Cuánto dinero en ventas generó la mayoría de las compañías?",
   "metadata": {
    "cell_id": "1814847a-365e-4bae-9fb9-6bed9b874b37",
    "tags": [],
    "deepnote_cell_type": "markdown",
    "deepnote_cell_height": 62
   }
  },
  {
   "cell_type": "markdown",
   "source": "#### Revisemoslo a través de un histograma:",
   "metadata": {
    "cell_id": "8753910e-847b-4e92-aebf-aafcc9a8133b",
    "tags": [],
    "deepnote_cell_type": "markdown"
   }
  },
  {
   "cell_type": "code",
   "metadata": {
    "cell_id": "9857af9f-4838-4239-be81-31af67af52d7",
    "tags": [],
    "deepnote_to_be_reexecuted": false,
    "source_hash": "b312ad24",
    "execution_start": 1645572432126,
    "execution_millis": 636,
    "deepnote_cell_type": "code"
   },
   "source": "ax = sns.histplot(x = 'Sales', data = df[1:25], bins = 4, color= 'skyblue')\nax.patches[0].set_facecolor('salmon')\nplt.text(17000.0,8,'Mayoría compañías',rotation=0, size= 13, color= 'white', weight='bold')\nplt.show",
   "execution_count": null,
   "outputs": [
    {
     "output_type": "execute_result",
     "execution_count": 144,
     "data": {
      "text/plain": "<function matplotlib.pyplot.show(close=None, block=None)>"
     },
     "metadata": {}
    },
    {
     "data": {
      "text/plain": "<Figure size 842.4x595.44 with 1 Axes>",
      "image/png": "[encoded data removed]"
     },
     "metadata": {
      "image/png": {
       "width": 707,
       "height": 500
      }
     },
     "output_type": "display_data"
    }
   ]
  },
  {
   "cell_type": "markdown",
   "source": "#### La mayoría de las compañías (14) generaron ventas por hasta  <font color='firebrick'>40,000 dólares.</font>",
   "metadata": {
    "cell_id": "56c7228e-bc5a-43ae-8826-bbcede54b8f4",
    "tags": [],
    "deepnote_cell_type": "markdown"
   }
  },
  {
   "cell_type": "markdown",
   "source": "<br>",
   "metadata": {
    "cell_id": "608a086c-d0ca-4857-a3a2-73e97677f106",
    "tags": [],
    "deepnote_cell_type": "markdown"
   }
  },
  {
   "cell_type": "markdown",
   "source": "<hr style=\"height:1.5px;border-width:0;color:black;background-color:gray\">",
   "metadata": {
    "cell_id": "1f932f8b-3d69-465f-8b0c-c2cac08bea2a",
    "tags": [],
    "deepnote_cell_type": "markdown"
   }
  },
  {
   "cell_type": "markdown",
   "source": "### 3. ¿Cuántas tiendas tiene la mayoría de las compañías?",
   "metadata": {
    "cell_id": "9801295a-a27d-48af-ae87-c653cabd8f67",
    "tags": [],
    "deepnote_cell_type": "markdown",
    "deepnote_cell_height": 62
   }
  },
  {
   "cell_type": "markdown",
   "source": "#### Primero revisamos la columna Stores, y descubrimos que hay valores nulos.\n#### <font color='firebrick'>Limpiemos los valores nulos antes de hallar el resultado.</font>",
   "metadata": {
    "cell_id": "126d8a37-b212-4d06-b6c8-e24d502a7297",
    "tags": [],
    "deepnote_cell_type": "markdown"
   }
  },
  {
   "cell_type": "code",
   "metadata": {
    "cell_id": "d49c77e6-14b0-4595-be0e-9953e1c4fefd",
    "tags": [],
    "deepnote_to_be_reexecuted": false,
    "source_hash": "f3dd26da",
    "execution_start": 1645566804156,
    "execution_millis": 45,
    "deepnote_cell_type": "code"
   },
   "source": "df.isnull().sum()",
   "execution_count": null,
   "outputs": [
    {
     "output_type": "execute_result",
     "execution_count": 13,
     "data": {
      "text/plain": "Company               0\nSales                 0\nStores                2\nSales/Avg. Store      2\nStore Count Growth    2\nCategory              1\ndtype: int64"
     },
     "metadata": {}
    }
   ]
  },
  {
   "cell_type": "code",
   "metadata": {
    "cell_id": "d143329f-fee6-4781-a794-ac99633b76df",
    "tags": [],
    "deepnote_to_be_reexecuted": false,
    "source_hash": "aff83875",
    "execution_start": 1645572951643,
    "execution_millis": 40,
    "deepnote_table_state": {
     "pageSize": 10,
     "pageIndex": 0,
     "filters": [],
     "sortBy": []
    },
    "deepnote_table_loading": false,
    "deepnote_cell_type": "code"
   },
   "source": "df3 = df.dropna()\ndf3.head(4)",
   "execution_count": null,
   "outputs": [
    {
     "output_type": "execute_result",
     "execution_count": 146,
     "data": {
      "application/vnd.deepnote.dataframe.v3+json": {
       "column_count": 7,
       "row_count": 4,
       "columns": [
        {
         "name": "Company",
         "dtype": "object",
         "stats": {
          "unique_count": 4,
          "nan_count": 0,
          "categories": [
           {
            "name": "Walmart US",
            "count": 1
           },
           {
            "name": "Kroger",
            "count": 1
           },
           {
            "name": "2 others",
            "count": 2
           }
          ]
         }
        },
        {
         "name": "Sales",
         "dtype": "int64",
         "stats": {
          "unique_count": 4,
          "nan_count": 0,
          "min": "83976",
          "max": "658119",
          "histogram": [
           {
            "bin_start": 83976,
            "bin_end": 141390.3,
            "count": 3
           },
           {
            "bin_start": 141390.3,
            "bin_end": 198804.6,
            "count": 0
           },
           {
            "bin_start": 198804.6,
            "bin_end": 256218.90000000002,
            "count": 0
           },
           {
            "bin_start": 256218.90000000002,
            "bin_end": 313633.2,
            "count": 0
           },
           {
            "bin_start": 313633.2,
            "bin_end": 371047.5,
            "count": 0
           },
           {
            "bin_start": 371047.5,
            "bin_end": 428461.80000000005,
            "count": 0
           },
           {
            "bin_start": 428461.80000000005,
            "bin_end": 485876.10000000003,
            "count": 0
           },
           {
            "bin_start": 485876.10000000003,
            "bin_end": 543290.4,
            "count": 0
           },
           {
            "bin_start": 543290.4,
            "bin_end": 600704.7,
            "count": 0
           },
           {
            "bin_start": 600704.7,
            "bin_end": 658119,
            "count": 1
           }
          ]
         }
        },
        {
         "name": "Stores",
         "dtype": "float64",
         "stats": {
          "unique_count": 4,
          "nan_count": 0,
          "min": "495.0",
          "max": "4574.0",
          "histogram": [
           {
            "bin_start": 495,
            "bin_end": 902.9,
            "count": 1
           },
           {
            "bin_start": 902.9,
            "bin_end": 1310.8,
            "count": 0
           },
           {
            "bin_start": 1310.8,
            "bin_end": 1718.6999999999998,
            "count": 0
           },
           {
            "bin_start": 1718.6999999999998,
            "bin_end": 2126.6,
            "count": 1
           },
           {
            "bin_start": 2126.6,
            "bin_end": 2534.5,
            "count": 0
           },
           {
            "bin_start": 2534.5,
            "bin_end": 2942.3999999999996,
            "count": 0
           },
           {
            "bin_start": 2942.3999999999996,
            "bin_end": 3350.2999999999997,
            "count": 0
           },
           {
            "bin_start": 3350.2999999999997,
            "bin_end": 3758.2,
            "count": 0
           },
           {
            "bin_start": 3758.2,
            "bin_end": 4166.1,
            "count": 1
           },
           {
            "bin_start": 4166.1,
            "bin_end": 4574,
            "count": 1
           }
          ]
         }
        },
        {
         "name": "Sales/Avg. Store",
         "dtype": "float64",
         "stats": {
          "unique_count": 4,
          "nan_count": 0,
          "min": "30.03184963",
          "max": "187.7956204",
          "histogram": [
           {
            "bin_start": 30.03184963,
            "bin_end": 45.808226706999996,
            "count": 2
           },
           {
            "bin_start": 45.808226706999996,
            "bin_end": 61.584603783999995,
            "count": 0
           },
           {
            "bin_start": 61.584603783999995,
            "bin_end": 77.36098086099999,
            "count": 1
           },
           {
            "bin_start": 77.36098086099999,
            "bin_end": 93.137357938,
            "count": 0
           },
           {
            "bin_start": 93.137357938,
            "bin_end": 108.91373501499999,
            "count": 0
           },
           {
            "bin_start": 108.91373501499999,
            "bin_end": 124.69011209199998,
            "count": 0
           },
           {
            "bin_start": 124.69011209199998,
            "bin_end": 140.466489169,
            "count": 0
           },
           {
            "bin_start": 140.466489169,
            "bin_end": 156.24286624599998,
            "count": 0
           },
           {
            "bin_start": 156.24286624599998,
            "bin_end": 172.01924332299998,
            "count": 0
           },
           {
            "bin_start": 172.01924332299998,
            "bin_end": 187.7956204,
            "count": 1
           }
          ]
         }
        },
        {
         "name": "Store Count Growth",
         "dtype": "float64",
         "stats": {
          "unique_count": 4,
          "nan_count": 0,
          "min": "0.0",
          "max": "0.06681034483",
          "histogram": [
           {
            "bin_start": 0,
            "bin_end": 0.006681034483000001,
            "count": 1
           },
           {
            "bin_start": 0.006681034483000001,
            "bin_end": 0.013362068966000002,
            "count": 1
           },
           {
            "bin_start": 0.013362068966000002,
            "bin_end": 0.020043103449000003,
            "count": 0
           },
           {
            "bin_start": 0.020043103449000003,
            "bin_end": 0.026724137932000003,
            "count": 0
           },
           {
            "bin_start": 0.026724137932000003,
            "bin_end": 0.033405172415,
            "count": 0
           },
           {
            "bin_start": 0.033405172415,
            "bin_end": 0.04008620689800001,
            "count": 0
           },
           {
            "bin_start": 0.04008620689800001,
            "bin_end": 0.046767241381,
            "count": 0
           },
           {
            "bin_start": 0.046767241381,
            "bin_end": 0.05344827586400001,
            "count": 0
           },
           {
            "bin_start": 0.05344827586400001,
            "bin_end": 0.06012931034700001,
            "count": 1
           },
           {
            "bin_start": 0.06012931034700001,
            "bin_end": 0.06681034483,
            "count": 1
           }
          ]
         }
        },
        {
         "name": "Category",
         "dtype": "object",
         "stats": {
          "unique_count": 4,
          "nan_count": 0,
          "categories": [
           {
            "name": "Supercenters",
            "count": 1
           },
           {
            "name": "Grocery",
            "count": 1
           },
           {
            "name": "2 others",
            "count": 2
           }
          ]
         }
        },
        {
         "name": "Dollar Amount",
         "dtype": "object",
         "stats": {
          "unique_count": 4,
          "nan_count": 0,
          "categories": [
           {
            "name": "658,119",
            "count": 1
           },
           {
            "name": "115,037",
            "count": 1
           },
           {
            "name": "2 others",
            "count": 2
           }
          ]
         }
        },
        {
         "name": "_deepnote_index_column",
         "dtype": "int64"
        }
       ],
       "rows": [
        {
         "Company": "Walmart US",
         "Sales": 658119,
         "Stores": 4574,
         "Sales/Avg. Store": 65.64972497,
         "Store Count Growth": 0.01284322409,
         "Category": "Supercenters",
         "Dollar Amount": "658,119",
         "_deepnote_index_column": 0
        },
        {
         "Company": "Kroger",
         "Sales": 115037,
         "Stores": 3931,
         "Sales/Avg. Store": 30.03184963,
         "Store Count Growth": 0.05388739946,
         "Category": "Grocery",
         "Dollar Amount": "115,037",
         "_deepnote_index_column": 1
        },
        {
         "Company": "Costco",
         "Sales": 90048,
         "Stores": 495,
         "Sales/Avg. Store": 187.7956204,
         "Store Count Growth": 0.06681034483,
         "Category": "Warehouse Club",
         "Dollar Amount": "90,048",
         "_deepnote_index_column": 2
        },
        {
         "Company": "Home Depot",
         "Sales": 83976,
         "Stores": 1965,
         "Sales/Avg. Store": 42.73587786,
         "Store Count Growth": 0,
         "Category": "Home Improvement",
         "Dollar Amount": "83,976",
         "_deepnote_index_column": 3
        }
       ]
      },
      "text/plain": "      Company   Sales  Stores  Sales/Avg. Store  Store Count Growth  \\\n0  Walmart US  658119  4574.0         65.649725            0.012843   \n1      Kroger  115037  3931.0         30.031850            0.053887   \n2      Costco   90048   495.0        187.795620            0.066810   \n3  Home Depot   83976  1965.0         42.735878            0.000000   \n\n           Category Dollar Amount  \n0      Supercenters       658,119  \n1           Grocery       115,037  \n2    Warehouse Club        90,048  \n3  Home Improvement        83,976  ",
      "text/html": "<div>\n<style scoped>\n    .dataframe tbody tr th:only-of-type {\n        vertical-align: middle;\n    }\n\n    .dataframe tbody tr th {\n        vertical-align: top;\n    }\n\n    .dataframe thead th {\n        text-align: right;\n    }\n</style>\n<table border=\"1\" class=\"dataframe\">\n  <thead>\n    <tr style=\"text-align: right;\">\n      <th></th>\n      <th>Company</th>\n      <th>Sales</th>\n      <th>Stores</th>\n      <th>Sales/Avg. Store</th>\n      <th>Store Count Growth</th>\n      <th>Category</th>\n      <th>Dollar Amount</th>\n    </tr>\n  </thead>\n  <tbody>\n    <tr>\n      <th>0</th>\n      <td>Walmart US</td>\n      <td>658119</td>\n      <td>4574.0</td>\n      <td>65.649725</td>\n      <td>0.012843</td>\n      <td>Supercenters</td>\n      <td>658,119</td>\n    </tr>\n    <tr>\n      <th>1</th>\n      <td>Kroger</td>\n      <td>115037</td>\n      <td>3931.0</td>\n      <td>30.031850</td>\n      <td>0.053887</td>\n      <td>Grocery</td>\n      <td>115,037</td>\n    </tr>\n    <tr>\n      <th>2</th>\n      <td>Costco</td>\n      <td>90048</td>\n      <td>495.0</td>\n      <td>187.795620</td>\n      <td>0.066810</td>\n      <td>Warehouse Club</td>\n      <td>90,048</td>\n    </tr>\n    <tr>\n      <th>3</th>\n      <td>Home Depot</td>\n      <td>83976</td>\n      <td>1965.0</td>\n      <td>42.735878</td>\n      <td>0.000000</td>\n      <td>Home Improvement</td>\n      <td>83,976</td>\n    </tr>\n  </tbody>\n</table>\n</div>"
     },
     "metadata": {}
    }
   ]
  },
  {
   "cell_type": "markdown",
   "source": "#### Usemos un histograma para revisar:",
   "metadata": {
    "cell_id": "17e653f7-c7c4-40f4-b23a-9dd1416b1720",
    "tags": [],
    "deepnote_cell_type": "markdown"
   }
  },
  {
   "cell_type": "code",
   "metadata": {
    "cell_id": "d584ad78-7829-4c3a-8ef1-d60f52a903ae",
    "tags": [],
    "deepnote_to_be_reexecuted": false,
    "source_hash": "786a01fe",
    "execution_start": 1645584981292,
    "execution_millis": 651,
    "deepnote_cell_type": "code"
   },
   "source": "ax = sns.histplot(x = 'Stores', data = df3, bins = 7, color= 'gray')\nax.patches[0].set_facecolor('salmon')\nplt.text(2300.0,8,'Mayoría de compañías',rotation=0, size= 16, color= 'salmon', weight='bold')\nplt.show",
   "execution_count": null,
   "outputs": [
    {
     "output_type": "execute_result",
     "execution_count": 258,
     "data": {
      "text/plain": "<function matplotlib.pyplot.show(close=None, block=None)>"
     },
     "metadata": {}
    },
    {
     "data": {
      "text/plain": "<Figure size 842.4x595.44 with 1 Axes>",
      "image/png": "[encoded data removed]"
     },
     "metadata": {
      "image/png": {
       "width": 707,
       "height": 500
      }
     },
     "output_type": "display_data"
    }
   ]
  },
  {
   "cell_type": "markdown",
   "source": "#### La mayoría de las compañías (14) tienen hasta <font color='firebrick'>2,000 tiendas.</font>",
   "metadata": {
    "cell_id": "c6402ee4-5d83-4d68-baf4-37872a900468",
    "tags": [],
    "deepnote_cell_type": "markdown"
   }
  },
  {
   "cell_type": "markdown",
   "source": "<br>",
   "metadata": {
    "cell_id": "3e9e4f4b-6a71-4b90-a9e5-3a7244f7db06",
    "tags": [],
    "deepnote_cell_type": "markdown"
   }
  },
  {
   "cell_type": "markdown",
   "source": "<hr style=\"height:1.5px;border-width:0;color:black;background-color:gray\">",
   "metadata": {
    "cell_id": "32d5caa2-6229-4859-a013-77e4af388848",
    "tags": [],
    "deepnote_to_be_reexecuted": false,
    "source_hash": "7295862d",
    "execution_start": 1645574075676,
    "execution_millis": 0,
    "deepnote_cell_type": "markdown"
   }
  },
  {
   "cell_type": "markdown",
   "source": "### 4. ¿La cantidad de tiendas está relacionada con la cantidad de ventas? Es decir, ¿si una empresa tiene más tiendas tendrá más dinero de ventas?",
   "metadata": {
    "cell_id": "c9b5de28-cd12-4088-9bc0-93df660401f3",
    "tags": [],
    "deepnote_cell_type": "markdown",
    "deepnote_cell_height": 94
   }
  },
  {
   "cell_type": "markdown",
   "source": "#### Hagamos un <font color='firebrick'>gráfico de dispersión</font> para revisar si existe alguna correlación.",
   "metadata": {
    "cell_id": "ca74f007-f673-405b-99c2-a0daf44d96d9",
    "tags": [],
    "deepnote_cell_type": "markdown"
   }
  },
  {
   "cell_type": "code",
   "metadata": {
    "cell_id": "72dda234-6fca-477e-a088-99682e9766a2",
    "tags": [],
    "deepnote_to_be_reexecuted": false,
    "source_hash": "bf146e17",
    "execution_start": 1645576866872,
    "execution_millis": 1122,
    "deepnote_cell_type": "code",
    "deepnote_cell_height": 66
   },
   "source": "sns.set_style('darkgrid')\nsns.scatterplot(df3.Stores, df3.Sales,s = 400, color = 'purple', marker = '*' )\nplt.text(4000,600000, \"Walmart\", horizontalalignment='left', size='medium', color='black', weight='semibold')\nplt.text(13000,60000, \"Dollar Tree\", horizontalalignment='left', size='medium', color='black', weight='semibold')\nplt.show()\n",
   "execution_count": null,
   "outputs": [
    {
     "name": "stderr",
     "text": "/shared-libs/python3.7/py/lib/python3.7/site-packages/seaborn/_decorators.py:43: FutureWarning: Pass the following variables as keyword args: x, y. From version 0.12, the only valid positional argument will be `data`, and passing other arguments without an explicit keyword will result in an error or misinterpretation.\n  FutureWarning\n",
     "output_type": "stream"
    },
    {
     "data": {
      "text/plain": "<Figure size 842.4x595.44 with 1 Axes>",
      "image/png": "[encoded data removed]"
     },
     "metadata": {
      "image/png": {
       "width": 735,
       "height": 500
      }
     },
     "output_type": "display_data"
    }
   ]
  },
  {
   "cell_type": "markdown",
   "source": "#### - En el gráfico observamos que hay compañías con <font color='firebrick'>14,000 tiendas, como Dollar Tree y sus ventas son por menos de 100,000</font>. \n#### - Mientras que hay compañías como Walmart con 4,500 tiendas y 600,000 en Ventas.\n#### - Por lo que aparentemente <font color='firebrick'>no hay relación entre Mayor tiendas, Mayor Ventas.</font> Sin embargo Walmart al ser una compañía muy grande nos puede sesgar los datos o entorpecer la vista.",
   "metadata": {
    "cell_id": "2acfd222-e152-4efa-b0cc-650ea604c1d8",
    "tags": [],
    "deepnote_cell_type": "markdown"
   }
  },
  {
   "cell_type": "markdown",
   "source": "<br>",
   "metadata": {
    "cell_id": "10e906b5-d19c-4341-af27-e8ff01006bff",
    "tags": [],
    "deepnote_to_be_reexecuted": false,
    "source_hash": "8d0311df",
    "execution_start": 1645576208970,
    "execution_millis": 503,
    "deepnote_cell_type": "markdown"
   }
  },
  {
   "cell_type": "markdown",
   "source": "#### Veamos ahora la misma gráfica sin incluir a <font color='firebrick'>Walmart.</font>",
   "metadata": {
    "cell_id": "4409031b-d266-4e99-8228-a4adc62ef1fc",
    "tags": [],
    "deepnote_cell_type": "markdown"
   }
  },
  {
   "cell_type": "code",
   "metadata": {
    "cell_id": "0f04e503-879e-4ccb-a1f4-ae54b697513f",
    "tags": [],
    "deepnote_to_be_reexecuted": false,
    "source_hash": "3f3a4b22",
    "execution_start": 1645576463174,
    "execution_millis": 656,
    "deepnote_table_state": {
     "pageSize": 25,
     "pageIndex": 0,
     "filters": [],
     "sortBy": []
    },
    "deepnote_table_loading": false,
    "deepnote_table_invalid": false,
    "deepnote_cell_type": "code"
   },
   "source": "sns.set_style('darkgrid')\nsns.scatterplot(df3.Stores[1:], df3.Sales[1:], s = 400, color = 'purple')\nplt.text(4300,115000, \"Kroger\", horizontalalignment='left', size='medium', color='black', weight='semibold')\nplt.text(13000,25000, \"Dollar Tree\", horizontalalignment='left', size='medium', color='black', weight='semibold')\nplt.show()",
   "execution_count": null,
   "outputs": [
    {
     "name": "stderr",
     "text": "/shared-libs/python3.7/py/lib/python3.7/site-packages/seaborn/_decorators.py:43: FutureWarning: Pass the following variables as keyword args: x, y. From version 0.12, the only valid positional argument will be `data`, and passing other arguments without an explicit keyword will result in an error or misinterpretation.\n  FutureWarning\n",
     "output_type": "stream"
    },
    {
     "data": {
      "text/plain": "<Figure size 842.4x595.44 with 1 Axes>",
      "image/png": "[encoded data removed]"
     },
     "metadata": {
      "image/png": {
       "width": 735,
       "height": 500
      }
     },
     "output_type": "display_data"
    }
   ]
  },
  {
   "cell_type": "markdown",
   "source": "\n#### Vemos que una de las empresas con más  tiendas (14,000), Dollar Tree tiene alrededor de 20,000 en Ventas.\n#### Mientras que Kroger con casi 4,00 tiendas posee más de 100,000 en Ventas\n#### Concluímos en que <font color='firebrick'>no existe relación entre  'Mayor nro de Tiendas y mayor nro de Ventas'. </font>",
   "metadata": {
    "cell_id": "39a8b82d-4ec9-44c1-aaf9-b032a74617d4",
    "tags": [],
    "deepnote_cell_type": "markdown"
   }
  },
  {
   "cell_type": "markdown",
   "source": "<br>",
   "metadata": {
    "cell_id": "a08facef-b39b-470f-91da-66c5f14baa6f",
    "tags": [],
    "deepnote_cell_type": "markdown"
   }
  },
  {
   "cell_type": "markdown",
   "source": "<hr style=\"height:1.5px;border-width:0;color:black;background-color:gray\">",
   "metadata": {
    "cell_id": "b71bf494-2208-4005-9fdf-32dcca7dee2f",
    "tags": [],
    "deepnote_cell_type": "markdown"
   }
  },
  {
   "cell_type": "markdown",
   "source": "### 5. ¿Cuál es el rango que existe entre las ventas?",
   "metadata": {
    "cell_id": "d296130b-b739-4424-8c5d-8dc8b6fc8ee5",
    "tags": [],
    "deepnote_cell_type": "markdown",
    "deepnote_cell_height": 62
   }
  },
  {
   "cell_type": "markdown",
   "source": "#### El rango entre la compañía con más ventas (Walmart) y la que tiene menos ventas (Meijer) <font color='firebrick'> es de 641,527.</font>",
   "metadata": {
    "cell_id": "f57a4b52-3324-4582-9e8b-e750433af4f7",
    "tags": [],
    "deepnote_cell_type": "markdown"
   }
  },
  {
   "cell_type": "code",
   "metadata": {
    "cell_id": "277da6f7-0300-4156-91e5-9765eb1f3752",
    "tags": [],
    "deepnote_to_be_reexecuted": false,
    "source_hash": "c987838e",
    "execution_start": 1645566807416,
    "execution_millis": 1,
    "is_code_hidden": false,
    "deepnote_cell_type": "code",
    "deepnote_cell_height": 66
   },
   "source": "rango = df['Sales'].max() - df['Sales'].min()\nrango",
   "execution_count": null,
   "outputs": [
    {
     "output_type": "execute_result",
     "execution_count": 20,
     "data": {
      "text/plain": "641527"
     },
     "metadata": {}
    }
   ]
  },
  {
   "cell_type": "markdown",
   "source": "#### El rango entre la <font color='firebrick'>segunda compañía </font>  <font color='black'>con más ventas (Kroger) y la que tiene menos ventas (Meijer) es de <font color='firebrick'>98,445.</font>",
   "metadata": {
    "cell_id": "076bcdfa-03a5-40c5-9065-efed1f130a16",
    "tags": [],
    "deepnote_cell_type": "markdown"
   }
  },
  {
   "cell_type": "code",
   "metadata": {
    "cell_id": "a5fd137c-d78e-4304-a205-e9543a6ebb7a",
    "tags": [],
    "deepnote_to_be_reexecuted": false,
    "source_hash": "7e26f567",
    "execution_start": 1645566807461,
    "execution_millis": 49,
    "deepnote_cell_type": "code"
   },
   "source": "rango2 = df['Sales'][1:].max() - df['Sales'].min()\nrango2",
   "execution_count": null,
   "outputs": [
    {
     "output_type": "execute_result",
     "execution_count": 21,
     "data": {
      "text/plain": "98445"
     },
     "metadata": {}
    }
   ]
  },
  {
   "cell_type": "markdown",
   "source": "#### Viendolo en un gráfico, podemos corroborrar que el rango es abismal en ambos casos.",
   "metadata": {
    "cell_id": "c8f02e4b-a052-4694-8ee7-c5cd166167b9",
    "tags": [],
    "deepnote_cell_type": "markdown"
   }
  },
  {
   "cell_type": "code",
   "metadata": {
    "cell_id": "b862b45e-e3b4-4007-9e03-17a110d06e05",
    "tags": [],
    "deepnote_to_be_reexecuted": false,
    "source_hash": "1cf6f0e3",
    "execution_start": 1645581569041,
    "execution_millis": 826,
    "deepnote_cell_type": "code"
   },
   "source": "f, axes = plt.subplots(1, 2,figsize = (16,7))\nsns.barplot(x= (df['Sales'][0:25:24]), y='Stores', data=df, ax= axes[0])\naxes[0].set_title('Rango entre Compañía con Más ventas vs Compañía Menos Ventas')\naxes[0].patches[0].set_facecolor('indianred')\naxes[0].patches[1].set_facecolor('mediumseagreen')\n\nsns.barplot(x = (df['Sales'][1::23]), y='Stores', data=df, ax=axes[1])\naxes[1].set_title('Rango entre 2da Compañía con Más Ventas vs Compañía Menos Ventas')\naxes[1].patches[0].set_facecolor('indianred')\naxes[1].patches[1].set_facecolor('springgreen')\nplt.show()",
   "execution_count": null,
   "outputs": [
    {
     "data": {
      "text/plain": "<Figure size 1152x504 with 2 Axes>",
      "image/png": "[encoded data removed]"
     },
     "metadata": {
      "image/png": {
       "width": 975,
       "height": 447
      }
     },
     "output_type": "display_data"
    }
   ]
  },
  {
   "cell_type": "markdown",
   "source": "<br>",
   "metadata": {
    "cell_id": "d71c254e-6dbb-426a-89c4-8248be6b557c",
    "tags": [],
    "deepnote_cell_type": "markdown"
   }
  },
  {
   "cell_type": "markdown",
   "source": "<hr style=\"height:1.5px;border-width:0;color:black;background-color:gray\">",
   "metadata": {
    "cell_id": "7cbd43dd-0a25-4adb-a049-e18b1a918361",
    "tags": [],
    "deepnote_cell_type": "markdown"
   }
  },
  {
   "cell_type": "markdown",
   "source": "### 6. ¿Cuáles son las 5 empresas que más tiendas físicas tienen? ¿Cuáles de ellas están dentro de las 5 empresas que más ventas tuvieron?",
   "metadata": {
    "cell_id": "6c36ddc3-51ef-4017-a6f9-06cbb8b970e4",
    "tags": [],
    "deepnote_cell_type": "markdown",
    "deepnote_cell_height": 94
   }
  },
  {
   "cell_type": "markdown",
   "source": "#### Identicamos las 5 empresas con <font color='firebrick'> mayor cantidad de Tiendas:",
   "metadata": {
    "cell_id": "7f70b55a-c142-4859-a8cc-a302a2cfb5a2",
    "tags": [],
    "deepnote_cell_type": "markdown"
   }
  },
  {
   "cell_type": "code",
   "metadata": {
    "cell_id": "1295319d-09d0-42f0-9de0-ff0e689f400f",
    "tags": [],
    "deepnote_to_be_reexecuted": false,
    "source_hash": "1b1d5837",
    "execution_start": 1645581972985,
    "execution_millis": 81,
    "deepnote_table_state": {
     "pageSize": 50,
     "pageIndex": 0,
     "filters": [],
     "sortBy": []
    },
    "deepnote_table_loading": false,
    "deepnote_cell_type": "code",
    "deepnote_cell_height": 66
   },
   "source": "sort_by_stores = df3.sort_values('Stores', ascending=False)\ntop_five_stores=sort_by_stores.head(5)\ntop_five_stores",
   "execution_count": null,
   "outputs": [
    {
     "output_type": "execute_result",
     "execution_count": 250,
     "data": {
      "application/vnd.deepnote.dataframe.v3+json": {
       "column_count": 7,
       "row_count": 5,
       "columns": [
        {
         "name": "Company",
         "dtype": "object",
         "stats": {
          "unique_count": 5,
          "nan_count": 0,
          "categories": [
           {
            "name": "Dollar Tree",
            "count": 1
           },
           {
            "name": "Dollar General",
            "count": 1
           },
           {
            "name": "3 others",
            "count": 3
           }
          ]
         }
        },
        {
         "name": "Sales",
         "dtype": "int64",
         "stats": {
          "unique_count": 5,
          "nan_count": 0,
          "min": "21464",
          "max": "658119",
          "histogram": [
           {
            "bin_start": 21464,
            "bin_end": 85129.5,
            "count": 4
           },
           {
            "bin_start": 85129.5,
            "bin_end": 148795,
            "count": 0
           },
           {
            "bin_start": 148795,
            "bin_end": 212460.5,
            "count": 0
           },
           {
            "bin_start": 212460.5,
            "bin_end": 276126,
            "count": 0
           },
           {
            "bin_start": 276126,
            "bin_end": 339791.5,
            "count": 0
           },
           {
            "bin_start": 339791.5,
            "bin_end": 403457,
            "count": 0
           },
           {
            "bin_start": 403457,
            "bin_end": 467122.5,
            "count": 0
           },
           {
            "bin_start": 467122.5,
            "bin_end": 530788,
            "count": 0
           },
           {
            "bin_start": 530788,
            "bin_end": 594453.5,
            "count": 0
           },
           {
            "bin_start": 594453.5,
            "bin_end": 658119,
            "count": 1
           }
          ]
         }
        },
        {
         "name": "Stores",
         "dtype": "float64",
         "stats": {
          "unique_count": 5,
          "nan_count": 0,
          "min": "4574.0",
          "max": "14250.0",
          "histogram": [
           {
            "bin_start": 4574,
            "bin_end": 5541.6,
            "count": 1
           },
           {
            "bin_start": 5541.6,
            "bin_end": 6509.2,
            "count": 0
           },
           {
            "bin_start": 6509.2,
            "bin_end": 7476.8,
            "count": 0
           },
           {
            "bin_start": 7476.8,
            "bin_end": 8444.4,
            "count": 1
           },
           {
            "bin_start": 8444.4,
            "bin_end": 9412,
            "count": 0
           },
           {
            "bin_start": 9412,
            "bin_end": 10379.6,
            "count": 1
           },
           {
            "bin_start": 10379.6,
            "bin_end": 11347.2,
            "count": 0
           },
           {
            "bin_start": 11347.2,
            "bin_end": 12314.8,
            "count": 0
           },
           {
            "bin_start": 12314.8,
            "bin_end": 13282.4,
            "count": 0
           },
           {
            "bin_start": 13282.4,
            "bin_end": 14250,
            "count": 2
           }
          ]
         }
        },
        {
         "name": "Sales/Avg. Store",
         "dtype": "float64",
         "stats": {
          "unique_count": 5,
          "nan_count": 0,
          "min": "1.56391854",
          "max": "65.64972497",
          "histogram": [
           {
            "bin_start": 1.56391854,
            "bin_end": 7.972499182999998,
            "count": 2
           },
           {
            "bin_start": 7.972499182999998,
            "bin_end": 14.381079825999997,
            "count": 2
           },
           {
            "bin_start": 14.381079825999997,
            "bin_end": 20.789660468999994,
            "count": 0
           },
           {
            "bin_start": 20.789660468999994,
            "bin_end": 27.198241111999995,
            "count": 0
           },
           {
            "bin_start": 27.198241111999995,
            "bin_end": 33.606821755,
            "count": 0
           },
           {
            "bin_start": 33.606821755,
            "bin_end": 40.01540239799999,
            "count": 0
           },
           {
            "bin_start": 40.01540239799999,
            "bin_end": 46.42398304099999,
            "count": 0
           },
           {
            "bin_start": 46.42398304099999,
            "bin_end": 52.83256368399999,
            "count": 0
           },
           {
            "bin_start": 52.83256368399999,
            "bin_end": 59.24114432699999,
            "count": 0
           },
           {
            "bin_start": 59.24114432699999,
            "bin_end": 65.64972497,
            "count": 1
           }
          ]
         }
        },
        {
         "name": "Store Count Growth",
         "dtype": "float64",
         "stats": {
          "unique_count": 5,
          "nan_count": 0,
          "min": "-0.01051069618",
          "max": "0.2556621881",
          "histogram": [
           {
            "bin_start": -0.01051069618,
            "bin_end": 0.016106592248000005,
            "count": 2
           },
           {
            "bin_start": 0.016106592248000005,
            "bin_end": 0.042723880676000005,
            "count": 0
           },
           {
            "bin_start": 0.042723880676000005,
            "bin_end": 0.06934116910400001,
            "count": 0
           },
           {
            "bin_start": 0.06934116910400001,
            "bin_end": 0.09595845753200001,
            "count": 1
           },
           {
            "bin_start": 0.09595845753200001,
            "bin_end": 0.12257574596000001,
            "count": 0
           },
           {
            "bin_start": 0.12257574596000001,
            "bin_end": 0.14919303438800002,
            "count": 1
           },
           {
            "bin_start": 0.14919303438800002,
            "bin_end": 0.175810322816,
            "count": 0
           },
           {
            "bin_start": 0.175810322816,
            "bin_end": 0.20242761124400002,
            "count": 0
           },
           {
            "bin_start": 0.20242761124400002,
            "bin_end": 0.22904489967200004,
            "count": 0
           },
           {
            "bin_start": 0.22904489967200004,
            "bin_end": 0.2556621881,
            "count": 1
           }
          ]
         }
        },
        {
         "name": "Category",
         "dtype": "object",
         "stats": {
          "unique_count": 3,
          "nan_count": 0,
          "categories": [
           {
            "name": "Dollar Stores",
            "count": 2
           },
           {
            "name": "Drug Stores",
            "count": 2
           },
           {
            "name": "Supercenters",
            "count": 1
           }
          ]
         }
        },
        {
         "name": "Dollar Amount",
         "dtype": "object",
         "stats": {
          "unique_count": 5,
          "nan_count": 0,
          "categories": [
           {
            "name": "21,464",
            "count": 1
           },
           {
            "name": "22,234",
            "count": 1
           },
           {
            "name": "3 others",
            "count": 3
           }
          ]
         }
        },
        {
         "name": "_deepnote_index_column",
         "dtype": "int64"
        }
       ],
       "rows": [
        {
         "Company": "Dollar Tree",
         "Sales": 21464,
         "Stores": 14250,
         "Sales/Avg. Store": 1.56391854,
         "Store Count Growth": 0.07962724449,
         "Category": "Dollar Stores",
         "Dollar Amount": "21,464",
         "_deepnote_index_column": 20
        },
        {
         "Company": "Dollar General",
         "Sales": 22234,
         "Stores": 13350,
         "Sales/Avg. Store": 1.768884999,
         "Store Count Growth": 0.1324115701,
         "Category": "Dollar Stores",
         "Dollar Amount": "22,234",
         "_deepnote_index_column": 19
        },
        {
         "Company": "CVS incl. Target",
         "Sales": 77792,
         "Stores": 9813,
         "Sales/Avg. Store": 8.825958702,
         "Store Count Growth": 0.2556621881,
         "Category": "Drug Stores",
         "Dollar Amount": "77,792",
         "_deepnote_index_column": 5
        },
        {
         "Company": "Walgreen Boots",
         "Sales": 78924,
         "Stores": 8002,
         "Sales/Avg. Store": 9.81092672,
         "Store Count Growth": -0.01051069618,
         "Category": "Drug Stores",
         "Dollar Amount": "78,924",
         "_deepnote_index_column": 4
        },
        {
         "Company": "Walmart US",
         "Sales": 658119,
         "Stores": 4574,
         "Sales/Avg. Store": 65.64972497,
         "Store Count Growth": 0.01284322409,
         "Category": "Supercenters",
         "Dollar Amount": "658,119",
         "_deepnote_index_column": 0
        }
       ]
      },
      "text/plain": "             Company   Sales   Stores  Sales/Avg. Store  Store Count Growth  \\\n20       Dollar Tree   21464  14250.0          1.563919            0.079627   \n19    Dollar General   22234  13350.0          1.768885            0.132412   \n5   CVS incl. Target   77792   9813.0          8.825959            0.255662   \n4     Walgreen Boots   78924   8002.0          9.810927           -0.010511   \n0         Walmart US  658119   4574.0         65.649725            0.012843   \n\n         Category Dollar Amount  \n20  Dollar Stores        21,464  \n19  Dollar Stores        22,234  \n5     Drug Stores        77,792  \n4     Drug Stores        78,924  \n0    Supercenters       658,119  ",
      "text/html": "<div>\n<style scoped>\n    .dataframe tbody tr th:only-of-type {\n        vertical-align: middle;\n    }\n\n    .dataframe tbody tr th {\n        vertical-align: top;\n    }\n\n    .dataframe thead th {\n        text-align: right;\n    }\n</style>\n<table border=\"1\" class=\"dataframe\">\n  <thead>\n    <tr style=\"text-align: right;\">\n      <th></th>\n      <th>Company</th>\n      <th>Sales</th>\n      <th>Stores</th>\n      <th>Sales/Avg. Store</th>\n      <th>Store Count Growth</th>\n      <th>Category</th>\n      <th>Dollar Amount</th>\n    </tr>\n  </thead>\n  <tbody>\n    <tr>\n      <th>20</th>\n      <td>Dollar Tree</td>\n      <td>21464</td>\n      <td>14250.0</td>\n      <td>1.563919</td>\n      <td>0.079627</td>\n      <td>Dollar Stores</td>\n      <td>21,464</td>\n    </tr>\n    <tr>\n      <th>19</th>\n      <td>Dollar General</td>\n      <td>22234</td>\n      <td>13350.0</td>\n      <td>1.768885</td>\n      <td>0.132412</td>\n      <td>Dollar Stores</td>\n      <td>22,234</td>\n    </tr>\n    <tr>\n      <th>5</th>\n      <td>CVS incl. Target</td>\n      <td>77792</td>\n      <td>9813.0</td>\n      <td>8.825959</td>\n      <td>0.255662</td>\n      <td>Drug Stores</td>\n      <td>77,792</td>\n    </tr>\n    <tr>\n      <th>4</th>\n      <td>Walgreen Boots</td>\n      <td>78924</td>\n      <td>8002.0</td>\n      <td>9.810927</td>\n      <td>-0.010511</td>\n      <td>Drug Stores</td>\n      <td>78,924</td>\n    </tr>\n    <tr>\n      <th>0</th>\n      <td>Walmart US</td>\n      <td>658119</td>\n      <td>4574.0</td>\n      <td>65.649725</td>\n      <td>0.012843</td>\n      <td>Supercenters</td>\n      <td>658,119</td>\n    </tr>\n  </tbody>\n</table>\n</div>"
     },
     "metadata": {}
    }
   ]
  },
  {
   "cell_type": "markdown",
   "source": "#### Identificamos ahora las 5 empresas con <font color='firebrick'> mayor cantidad de Ventas:",
   "metadata": {
    "cell_id": "d9a73124-bc28-4101-8e99-2fa9507e2960",
    "tags": [],
    "deepnote_cell_type": "markdown"
   }
  },
  {
   "cell_type": "code",
   "metadata": {
    "cell_id": "ffc091fb-fb59-4e73-aeb3-c7d3801d013a",
    "tags": [],
    "deepnote_to_be_reexecuted": false,
    "source_hash": "ad4de6a8",
    "execution_start": 1645566807876,
    "execution_millis": 48,
    "deepnote_cell_type": "code"
   },
   "source": "#5 empresas con mayor cantidad de ventas\nsort_by_sales = df.sort_values('Sales', ascending=False)\ntop_five_sales= sort_by_sales.head(5)\ntop_five_sales",
   "execution_count": null,
   "outputs": [
    {
     "output_type": "execute_result",
     "execution_count": 25,
     "data": {
      "application/vnd.deepnote.dataframe.v3+json": {
       "column_count": 6,
       "row_count": 5,
       "columns": [
        {
         "name": "Company",
         "dtype": "object",
         "stats": {
          "unique_count": 5,
          "nan_count": 0,
          "categories": [
           {
            "name": "Walmart US",
            "count": 1
           },
           {
            "name": "Kroger",
            "count": 1
           },
           {
            "name": "3 others",
            "count": 3
           }
          ]
         }
        },
        {
         "name": "Sales",
         "dtype": "int64",
         "stats": {
          "unique_count": 5,
          "nan_count": 0,
          "min": "78924",
          "max": "658119",
          "histogram": [
           {
            "bin_start": 78924,
            "bin_end": 136843.5,
            "count": 4
           },
           {
            "bin_start": 136843.5,
            "bin_end": 194763,
            "count": 0
           },
           {
            "bin_start": 194763,
            "bin_end": 252682.5,
            "count": 0
           },
           {
            "bin_start": 252682.5,
            "bin_end": 310602,
            "count": 0
           },
           {
            "bin_start": 310602,
            "bin_end": 368521.5,
            "count": 0
           },
           {
            "bin_start": 368521.5,
            "bin_end": 426441,
            "count": 0
           },
           {
            "bin_start": 426441,
            "bin_end": 484360.5,
            "count": 0
           },
           {
            "bin_start": 484360.5,
            "bin_end": 542280,
            "count": 0
           },
           {
            "bin_start": 542280,
            "bin_end": 600199.5,
            "count": 0
           },
           {
            "bin_start": 600199.5,
            "bin_end": 658119,
            "count": 1
           }
          ]
         }
        },
        {
         "name": "Stores",
         "dtype": "float64",
         "stats": {
          "unique_count": 5,
          "nan_count": 0,
          "min": "495.0",
          "max": "8002.0",
          "histogram": [
           {
            "bin_start": 495,
            "bin_end": 1245.7,
            "count": 1
           },
           {
            "bin_start": 1245.7,
            "bin_end": 1996.4,
            "count": 1
           },
           {
            "bin_start": 1996.4,
            "bin_end": 2747.1000000000004,
            "count": 0
           },
           {
            "bin_start": 2747.1000000000004,
            "bin_end": 3497.8,
            "count": 0
           },
           {
            "bin_start": 3497.8,
            "bin_end": 4248.5,
            "count": 1
           },
           {
            "bin_start": 4248.5,
            "bin_end": 4999.200000000001,
            "count": 1
           },
           {
            "bin_start": 4999.200000000001,
            "bin_end": 5749.900000000001,
            "count": 0
           },
           {
            "bin_start": 5749.900000000001,
            "bin_end": 6500.6,
            "count": 0
           },
           {
            "bin_start": 6500.6,
            "bin_end": 7251.3,
            "count": 0
           },
           {
            "bin_start": 7251.3,
            "bin_end": 8002,
            "count": 1
           }
          ]
         }
        },
        {
         "name": "Sales/Avg. Store",
         "dtype": "float64",
         "stats": {
          "unique_count": 5,
          "nan_count": 0,
          "min": "9.81092672",
          "max": "187.7956204",
          "histogram": [
           {
            "bin_start": 9.81092672,
            "bin_end": 27.609396087999997,
            "count": 1
           },
           {
            "bin_start": 27.609396087999997,
            "bin_end": 45.407865455999996,
            "count": 2
           },
           {
            "bin_start": 45.407865455999996,
            "bin_end": 63.206334823999995,
            "count": 0
           },
           {
            "bin_start": 63.206334823999995,
            "bin_end": 81.004804192,
            "count": 1
           },
           {
            "bin_start": 81.004804192,
            "bin_end": 98.80327356,
            "count": 0
           },
           {
            "bin_start": 98.80327356,
            "bin_end": 116.601742928,
            "count": 0
           },
           {
            "bin_start": 116.601742928,
            "bin_end": 134.400212296,
            "count": 0
           },
           {
            "bin_start": 134.400212296,
            "bin_end": 152.198681664,
            "count": 0
           },
           {
            "bin_start": 152.198681664,
            "bin_end": 169.99715103199998,
            "count": 0
           },
           {
            "bin_start": 169.99715103199998,
            "bin_end": 187.7956204,
            "count": 1
           }
          ]
         }
        },
        {
         "name": "Store Count Growth",
         "dtype": "float64",
         "stats": {
          "unique_count": 5,
          "nan_count": 0,
          "min": "-0.01051069618",
          "max": "0.06681034483",
          "histogram": [
           {
            "bin_start": -0.01051069618,
            "bin_end": -0.0027785920789999983,
            "count": 1
           },
           {
            "bin_start": -0.0027785920789999983,
            "bin_end": 0.004953512022000003,
            "count": 1
           },
           {
            "bin_start": 0.004953512022000003,
            "bin_end": 0.012685616123000005,
            "count": 0
           },
           {
            "bin_start": 0.012685616123000005,
            "bin_end": 0.020417720224000006,
            "count": 1
           },
           {
            "bin_start": 0.020417720224000006,
            "bin_end": 0.028149824325000003,
            "count": 0
           },
           {
            "bin_start": 0.028149824325000003,
            "bin_end": 0.03588192842600001,
            "count": 0
           },
           {
            "bin_start": 0.03588192842600001,
            "bin_end": 0.043614032527,
            "count": 0
           },
           {
            "bin_start": 0.043614032527,
            "bin_end": 0.05134613662800001,
            "count": 0
           },
           {
            "bin_start": 0.05134613662800001,
            "bin_end": 0.059078240729,
            "count": 1
           },
           {
            "bin_start": 0.059078240729,
            "bin_end": 0.06681034483,
            "count": 1
           }
          ]
         }
        },
        {
         "name": "Category",
         "dtype": "object",
         "stats": {
          "unique_count": 5,
          "nan_count": 0,
          "categories": [
           {
            "name": "Supercenters",
            "count": 1
           },
           {
            "name": "Grocery",
            "count": 1
           },
           {
            "name": "3 others",
            "count": 3
           }
          ]
         }
        },
        {
         "name": "_deepnote_index_column",
         "dtype": "int64"
        }
       ],
       "rows": [
        {
         "Company": "Walmart US",
         "Sales": 658119,
         "Stores": 4574,
         "Sales/Avg. Store": 65.64972497,
         "Store Count Growth": 0.01284322409,
         "Category": "Supercenters",
         "_deepnote_index_column": 0
        },
        {
         "Company": "Kroger",
         "Sales": 115037,
         "Stores": 3931,
         "Sales/Avg. Store": 30.03184963,
         "Store Count Growth": 0.05388739946,
         "Category": "Grocery",
         "_deepnote_index_column": 1
        },
        {
         "Company": "Costco",
         "Sales": 90048,
         "Stores": 495,
         "Sales/Avg. Store": 187.7956204,
         "Store Count Growth": 0.06681034483,
         "Category": "Warehouse Club",
         "_deepnote_index_column": 2
        },
        {
         "Company": "Home Depot",
         "Sales": 83976,
         "Stores": 1965,
         "Sales/Avg. Store": 42.73587786,
         "Store Count Growth": 0,
         "Category": "Home Improvement",
         "_deepnote_index_column": 3
        },
        {
         "Company": "Walgreen Boots",
         "Sales": 78924,
         "Stores": 8002,
         "Sales/Avg. Store": 9.81092672,
         "Store Count Growth": -0.01051069618,
         "Category": "Drug Stores",
         "_deepnote_index_column": 4
        }
       ]
      },
      "text/plain": "          Company   Sales  Stores  Sales/Avg. Store  Store Count Growth  \\\n0      Walmart US  658119  4574.0         65.649725            0.012843   \n1          Kroger  115037  3931.0         30.031850            0.053887   \n2          Costco   90048   495.0        187.795620            0.066810   \n3      Home Depot   83976  1965.0         42.735878            0.000000   \n4  Walgreen Boots   78924  8002.0          9.810927           -0.010511   \n\n           Category  \n0      Supercenters  \n1           Grocery  \n2    Warehouse Club  \n3  Home Improvement  \n4       Drug Stores  ",
      "text/html": "<div>\n<style scoped>\n    .dataframe tbody tr th:only-of-type {\n        vertical-align: middle;\n    }\n\n    .dataframe tbody tr th {\n        vertical-align: top;\n    }\n\n    .dataframe thead th {\n        text-align: right;\n    }\n</style>\n<table border=\"1\" class=\"dataframe\">\n  <thead>\n    <tr style=\"text-align: right;\">\n      <th></th>\n      <th>Company</th>\n      <th>Sales</th>\n      <th>Stores</th>\n      <th>Sales/Avg. Store</th>\n      <th>Store Count Growth</th>\n      <th>Category</th>\n    </tr>\n  </thead>\n  <tbody>\n    <tr>\n      <th>0</th>\n      <td>Walmart US</td>\n      <td>658119</td>\n      <td>4574.0</td>\n      <td>65.649725</td>\n      <td>0.012843</td>\n      <td>Supercenters</td>\n    </tr>\n    <tr>\n      <th>1</th>\n      <td>Kroger</td>\n      <td>115037</td>\n      <td>3931.0</td>\n      <td>30.031850</td>\n      <td>0.053887</td>\n      <td>Grocery</td>\n    </tr>\n    <tr>\n      <th>2</th>\n      <td>Costco</td>\n      <td>90048</td>\n      <td>495.0</td>\n      <td>187.795620</td>\n      <td>0.066810</td>\n      <td>Warehouse Club</td>\n    </tr>\n    <tr>\n      <th>3</th>\n      <td>Home Depot</td>\n      <td>83976</td>\n      <td>1965.0</td>\n      <td>42.735878</td>\n      <td>0.000000</td>\n      <td>Home Improvement</td>\n    </tr>\n    <tr>\n      <th>4</th>\n      <td>Walgreen Boots</td>\n      <td>78924</td>\n      <td>8002.0</td>\n      <td>9.810927</td>\n      <td>-0.010511</td>\n      <td>Drug Stores</td>\n    </tr>\n  </tbody>\n</table>\n</div>"
     },
     "metadata": {}
    }
   ]
  },
  {
   "cell_type": "markdown",
   "source": "#### Ahora grafiquemos ambos resultados para ver si hay empresas en común",
   "metadata": {
    "cell_id": "72733d8b-d57a-4857-8322-2e22c49e908a",
    "tags": [],
    "deepnote_cell_type": "markdown"
   }
  },
  {
   "cell_type": "code",
   "metadata": {
    "cell_id": "08ded1f3-0f0e-4a5b-9be0-0e71bd96a5a9",
    "tags": [],
    "deepnote_to_be_reexecuted": false,
    "source_hash": "a78b9863",
    "execution_start": 1645582716640,
    "execution_millis": 904,
    "deepnote_cell_type": "code"
   },
   "source": "f, axes = plt.subplots(1, 2,figsize = (16,7))\nsns.barplot(x= top_five_stores['Stores'], y= 'Company', data= top_five_stores, ax= axes[0], color='lightgray')\naxes[0].set_title('5 Empresas con mayor cantidad de tiendas')\naxes[0].patches[3].set_facecolor('indianred')\naxes[0].patches[4].set_facecolor('indianred')\nsns.barplot(x= top_five_sales['Sales'], y= 'Company', data= top_five_sales, ax=axes[1], color='lightgray')\naxes[1].set_title('5 Empresas con mayor cantidad de Ventas')\naxes[1].patches[0].set_facecolor('indianred')\naxes[1].patches[4].set_facecolor('indianred')\nplt.show()",
   "execution_count": null,
   "outputs": [
    {
     "data": {
      "text/plain": "<Figure size 1152x504 with 2 Axes>",
      "image/png": "[encoded data removed]"
     },
     "metadata": {
      "image/png": {
       "width": 1020,
       "height": 447
      }
     },
     "output_type": "display_data"
    }
   ]
  },
  {
   "cell_type": "markdown",
   "source": "#### Como vemos en el gráfico hay 2 empresas que están dentro del ranking con más tiendas y con mayor cantidad de ventas:\n####                           <font color='firebrick'> Walgreen Boots y Walmart US.</font>",
   "metadata": {
    "cell_id": "dc1dd078-a0ef-47a3-94f5-ce475a6bfd5e",
    "tags": [],
    "deepnote_cell_type": "markdown"
   }
  },
  {
   "cell_type": "markdown",
   "source": "<br>",
   "metadata": {
    "cell_id": "d0384006-45da-4316-b28b-e6f0f5e84178",
    "tags": [],
    "deepnote_cell_type": "markdown"
   }
  },
  {
   "cell_type": "markdown",
   "source": "<hr style=\"height:1.5px;border-width:0;color:black;background-color:gray\">",
   "metadata": {
    "cell_id": "529631d0-eb58-4ddd-b5a7-f33324ca6914",
    "tags": [],
    "deepnote_cell_type": "markdown"
   }
  },
  {
   "cell_type": "markdown",
   "source": "## II. Preguntas opcionales",
   "metadata": {
    "cell_id": "7d1d5db9-ad1d-4081-968b-bea1357e236a",
    "tags": [],
    "deepnote_cell_type": "markdown",
    "deepnote_cell_height": 70
   }
  },
  {
   "cell_type": "markdown",
   "source": "### 7. ¿Qué categoría de compañía generó más ventas?",
   "metadata": {
    "cell_id": "27e5ddcb-8674-4809-844e-8c3442430be1",
    "tags": [],
    "deepnote_cell_type": "markdown",
    "deepnote_cell_height": 62
   }
  },
  {
   "cell_type": "markdown",
   "source": "#### Hagamos un gráfico donde se sumen las ventas por Categoría y veamos:",
   "metadata": {
    "cell_id": "4cff0b9e-6f87-4bf2-8442-f7ac28b9145f",
    "tags": [],
    "deepnote_cell_type": "markdown"
   }
  },
  {
   "cell_type": "code",
   "metadata": {
    "cell_id": "17b6df68-f95e-47bb-a2b4-55ef0521a341",
    "tags": [],
    "deepnote_to_be_reexecuted": false,
    "source_hash": "d561215a",
    "execution_start": 1645583204208,
    "execution_millis": 518,
    "deepnote_cell_type": "code"
   },
   "source": "ax = sns.barplot(y='Category', x='Sales', data=df, ci=None, color='gray')\nax.patches[0].set_facecolor('salmon')",
   "execution_count": null,
   "outputs": [
    {
     "data": {
      "text/plain": "<Figure size 842.4x595.44 with 1 Axes>",
      "image/png": "[encoded data removed]"
     },
     "metadata": {
      "image/png": {
       "width": 809,
       "height": 500
      }
     },
     "output_type": "display_data"
    }
   ]
  },
  {
   "cell_type": "markdown",
   "source": "#### ➡️ La categoría que generó más ventas fue <font color='firebrick'>  Supercenters, con 250k.",
   "metadata": {
    "cell_id": "76406dd0-b3f5-45a0-ae20-32fad2b76047",
    "tags": [],
    "deepnote_cell_type": "markdown"
   }
  },
  {
   "cell_type": "markdown",
   "source": "<br>",
   "metadata": {
    "cell_id": "c24a8b71-f3d0-48a7-8796-bb9b5f92629a",
    "tags": [],
    "deepnote_cell_type": "markdown"
   }
  },
  {
   "cell_type": "markdown",
   "source": "<hr style=\"height:1.5px;border-width:0;color:black;background-color:gray\">",
   "metadata": {
    "cell_id": "561f69da-ce67-43b5-841b-7fbbc7dc1fe8",
    "tags": [],
    "deepnote_cell_type": "markdown"
   }
  },
  {
   "cell_type": "markdown",
   "source": "### 8. ¿Cuál es la compañía que en relación con su cantidad de tiendas físicas genera más ventas?",
   "metadata": {
    "cell_id": "33668883-9f01-485c-bdf9-822cd13ad952",
    "tags": [],
    "deepnote_cell_type": "markdown",
    "deepnote_cell_height": 94
   }
  },
  {
   "cell_type": "code",
   "metadata": {
    "cell_id": "903008ff-c22d-431e-8130-a954a94b16e8",
    "tags": [],
    "deepnote_to_be_reexecuted": false,
    "source_hash": "307f67c6",
    "execution_start": 1645583373053,
    "execution_millis": 88,
    "deepnote_cell_type": "code",
    "deepnote_cell_height": 66
   },
   "source": "df5 = df3.sort_values('Sales/Avg. Store', ascending=False)\ndf5.head(3)\n",
   "execution_count": null,
   "outputs": [
    {
     "output_type": "execute_result",
     "execution_count": 256,
     "data": {
      "application/vnd.deepnote.dataframe.v3+json": {
       "column_count": 7,
       "row_count": 3,
       "columns": [
        {
         "name": "Company",
         "dtype": "object",
         "stats": {
          "unique_count": 3,
          "nan_count": 0,
          "categories": [
           {
            "name": "Costco",
            "count": 1
           },
           {
            "name": "Sam's Club",
            "count": 1
           },
           {
            "name": "Meijer",
            "count": 1
           }
          ]
         }
        },
        {
         "name": "Sales",
         "dtype": "int64",
         "stats": {
          "unique_count": 3,
          "nan_count": 0,
          "min": "16592",
          "max": "90048",
          "histogram": [
           {
            "bin_start": 16592,
            "bin_end": 23937.6,
            "count": 1
           },
           {
            "bin_start": 23937.6,
            "bin_end": 31283.2,
            "count": 0
           },
           {
            "bin_start": 31283.2,
            "bin_end": 38628.8,
            "count": 0
           },
           {
            "bin_start": 38628.8,
            "bin_end": 45974.4,
            "count": 0
           },
           {
            "bin_start": 45974.4,
            "bin_end": 53320,
            "count": 0
           },
           {
            "bin_start": 53320,
            "bin_end": 60665.600000000006,
            "count": 1
           },
           {
            "bin_start": 60665.600000000006,
            "bin_end": 68011.20000000001,
            "count": 0
           },
           {
            "bin_start": 68011.20000000001,
            "bin_end": 75356.8,
            "count": 0
           },
           {
            "bin_start": 75356.8,
            "bin_end": 82702.40000000001,
            "count": 0
           },
           {
            "bin_start": 82702.40000000001,
            "bin_end": 90048,
            "count": 1
           }
          ]
         }
        },
        {
         "name": "Stores",
         "dtype": "float64",
         "stats": {
          "unique_count": 3,
          "nan_count": 0,
          "min": "231.0",
          "max": "655.0",
          "histogram": [
           {
            "bin_start": 231,
            "bin_end": 273.4,
            "count": 1
           },
           {
            "bin_start": 273.4,
            "bin_end": 315.8,
            "count": 0
           },
           {
            "bin_start": 315.8,
            "bin_end": 358.2,
            "count": 0
           },
           {
            "bin_start": 358.2,
            "bin_end": 400.6,
            "count": 0
           },
           {
            "bin_start": 400.6,
            "bin_end": 443,
            "count": 0
           },
           {
            "bin_start": 443,
            "bin_end": 485.4,
            "count": 0
           },
           {
            "bin_start": 485.4,
            "bin_end": 527.8,
            "count": 1
           },
           {
            "bin_start": 527.8,
            "bin_end": 570.2,
            "count": 0
           },
           {
            "bin_start": 570.2,
            "bin_end": 612.5999999999999,
            "count": 0
           },
           {
            "bin_start": 612.5999999999999,
            "bin_end": 655,
            "count": 1
           }
          ]
         }
        },
        {
         "name": "Sales/Avg. Store",
         "dtype": "float64",
         "stats": {
          "unique_count": 3,
          "nan_count": 0,
          "min": "74.73873874",
          "max": "187.7956204",
          "histogram": [
           {
            "bin_start": 74.73873874,
            "bin_end": 86.044426906,
            "count": 1
           },
           {
            "bin_start": 86.044426906,
            "bin_end": 97.350115072,
            "count": 1
           },
           {
            "bin_start": 97.350115072,
            "bin_end": 108.655803238,
            "count": 0
           },
           {
            "bin_start": 108.655803238,
            "bin_end": 119.961491404,
            "count": 0
           },
           {
            "bin_start": 119.961491404,
            "bin_end": 131.26717957,
            "count": 0
           },
           {
            "bin_start": 131.26717957,
            "bin_end": 142.572867736,
            "count": 0
           },
           {
            "bin_start": 142.572867736,
            "bin_end": 153.87855590200002,
            "count": 0
           },
           {
            "bin_start": 153.87855590200002,
            "bin_end": 165.184244068,
            "count": 0
           },
           {
            "bin_start": 165.184244068,
            "bin_end": 176.48993223399998,
            "count": 0
           },
           {
            "bin_start": 176.48993223399998,
            "bin_end": 187.7956204,
            "count": 1
           }
          ]
         }
        },
        {
         "name": "Store Count Growth",
         "dtype": "float64",
         "stats": {
          "unique_count": 3,
          "nan_count": 0,
          "min": "0.01236476043",
          "max": "0.08450704225",
          "histogram": [
           {
            "bin_start": 0.01236476043,
            "bin_end": 0.019578988611999998,
            "count": 1
           },
           {
            "bin_start": 0.019578988611999998,
            "bin_end": 0.026793216794,
            "count": 0
           },
           {
            "bin_start": 0.026793216794,
            "bin_end": 0.034007444976,
            "count": 0
           },
           {
            "bin_start": 0.034007444976,
            "bin_end": 0.041221673158,
            "count": 0
           },
           {
            "bin_start": 0.041221673158,
            "bin_end": 0.048435901340000004,
            "count": 0
           },
           {
            "bin_start": 0.048435901340000004,
            "bin_end": 0.05565012952199999,
            "count": 0
           },
           {
            "bin_start": 0.05565012952199999,
            "bin_end": 0.06286435770399999,
            "count": 0
           },
           {
            "bin_start": 0.06286435770399999,
            "bin_end": 0.070078585886,
            "count": 1
           },
           {
            "bin_start": 0.070078585886,
            "bin_end": 0.077292814068,
            "count": 0
           },
           {
            "bin_start": 0.077292814068,
            "bin_end": 0.08450704225,
            "count": 1
           }
          ]
         }
        },
        {
         "name": "Category",
         "dtype": "object",
         "stats": {
          "unique_count": 3,
          "nan_count": 0,
          "categories": [
           {
            "name": "Warehouse Club",
            "count": 1
           },
           {
            "name": "Warehouse Clubs",
            "count": 1
           },
           {
            "name": "Supercenters",
            "count": 1
           }
          ]
         }
        },
        {
         "name": "Dollar Amount",
         "dtype": "object",
         "stats": {
          "unique_count": 3,
          "nan_count": 0,
          "categories": [
           {
            "name": "90,048",
            "count": 1
           },
           {
            "name": "56,828",
            "count": 1
           },
           {
            "name": "16,592",
            "count": 1
           }
          ]
         }
        },
        {
         "name": "_deepnote_index_column",
         "dtype": "int64"
        }
       ],
       "rows": [
        {
         "Company": "Costco",
         "Sales": 90048,
         "Stores": 495,
         "Sales/Avg. Store": 187.7956204,
         "Store Count Growth": 0.06681034483,
         "Category": "Warehouse Club",
         "Dollar Amount": "90,048",
         "_deepnote_index_column": 2
        },
        {
         "Company": "Sam's Club",
         "Sales": 56828,
         "Stores": 655,
         "Sales/Avg. Store": 87.29339478,
         "Store Count Growth": 0.01236476043,
         "Category": "Warehouse Clubs",
         "Dollar Amount": "56,828",
         "_deepnote_index_column": 10
        },
        {
         "Company": "Meijer",
         "Sales": 16592,
         "Stores": 231,
         "Sales/Avg. Store": 74.73873874,
         "Store Count Growth": 0.08450704225,
         "Category": "Supercenters",
         "Dollar Amount": "16,592",
         "_deepnote_index_column": 24
        }
       ]
      },
      "text/plain": "       Company  Sales  Stores  Sales/Avg. Store  Store Count Growth  \\\n2       Costco  90048   495.0        187.795620            0.066810   \n10  Sam's Club  56828   655.0         87.293395            0.012365   \n24      Meijer  16592   231.0         74.738739            0.084507   \n\n           Category Dollar Amount  \n2    Warehouse Club        90,048  \n10  Warehouse Clubs        56,828  \n24     Supercenters        16,592  ",
      "text/html": "<div>\n<style scoped>\n    .dataframe tbody tr th:only-of-type {\n        vertical-align: middle;\n    }\n\n    .dataframe tbody tr th {\n        vertical-align: top;\n    }\n\n    .dataframe thead th {\n        text-align: right;\n    }\n</style>\n<table border=\"1\" class=\"dataframe\">\n  <thead>\n    <tr style=\"text-align: right;\">\n      <th></th>\n      <th>Company</th>\n      <th>Sales</th>\n      <th>Stores</th>\n      <th>Sales/Avg. Store</th>\n      <th>Store Count Growth</th>\n      <th>Category</th>\n      <th>Dollar Amount</th>\n    </tr>\n  </thead>\n  <tbody>\n    <tr>\n      <th>2</th>\n      <td>Costco</td>\n      <td>90048</td>\n      <td>495.0</td>\n      <td>187.795620</td>\n      <td>0.066810</td>\n      <td>Warehouse Club</td>\n      <td>90,048</td>\n    </tr>\n    <tr>\n      <th>10</th>\n      <td>Sam's Club</td>\n      <td>56828</td>\n      <td>655.0</td>\n      <td>87.293395</td>\n      <td>0.012365</td>\n      <td>Warehouse Clubs</td>\n      <td>56,828</td>\n    </tr>\n    <tr>\n      <th>24</th>\n      <td>Meijer</td>\n      <td>16592</td>\n      <td>231.0</td>\n      <td>74.738739</td>\n      <td>0.084507</td>\n      <td>Supercenters</td>\n      <td>16,592</td>\n    </tr>\n  </tbody>\n</table>\n</div>"
     },
     "metadata": {}
    }
   ]
  },
  {
   "cell_type": "markdown",
   "source": "#### La compañías que en relación con su cantidad de tiendas generán mas ventas son:\n#### 1. Costco\n#### 2. Sam's Club\n#### 3. Meijer",
   "metadata": {
    "cell_id": "780d4497-9068-4894-8a85-1626d2172d3a",
    "tags": [],
    "deepnote_cell_type": "markdown"
   }
  },
  {
   "cell_type": "markdown",
   "source": "<br>",
   "metadata": {
    "cell_id": "b23b08a3-5f0c-4e64-a06d-c3c9446f6eee",
    "tags": [],
    "deepnote_cell_type": "markdown"
   }
  },
  {
   "cell_type": "markdown",
   "source": "<hr style=\"height:1.5px;border-width:0;color:black;background-color:gray\">",
   "metadata": {
    "cell_id": "5afa0bd5-94a3-4f1c-83bf-2e5ff0e996e0",
    "tags": [],
    "deepnote_cell_type": "markdown"
   }
  },
  {
   "cell_type": "markdown",
   "source": "### 9. ¿Cuáles compañías venden de forma exclusivamente online? ¿Sus ventas destacan sobre las que también tienen tiendas físicas?",
   "metadata": {
    "cell_id": "e9a00ffe-de8a-41f0-98e7-67b905d0d14f",
    "tags": [],
    "deepnote_cell_type": "markdown",
    "deepnote_cell_height": 94
   }
  },
  {
   "cell_type": "markdown",
   "source": "#### Revisamos cuáles son las compañías que no poseen Tienda Física:  ",
   "metadata": {
    "cell_id": "3e7080d5-52da-4265-81b7-202a4bbef4e9",
    "tags": [],
    "deepnote_cell_type": "markdown"
   }
  },
  {
   "cell_type": "code",
   "metadata": {
    "cell_id": "cb6d5d30-783d-44af-9c84-f31689cb3487",
    "tags": [],
    "deepnote_to_be_reexecuted": false,
    "source_hash": "f5639793",
    "execution_start": 1645566809626,
    "execution_millis": 58,
    "deepnote_table_state": {
     "pageSize": 25,
     "pageIndex": 0,
     "filters": [],
     "sortBy": []
    },
    "deepnote_cell_type": "code",
    "deepnote_cell_height": 66
   },
   "source": "\nventa_online = df[df['Stores'].isnull()]\nventa_online",
   "execution_count": null,
   "outputs": [
    {
     "output_type": "execute_result",
     "execution_count": 30,
     "data": {
      "application/vnd.deepnote.dataframe.v3+json": {
       "column_count": 6,
       "row_count": 2,
       "columns": [
        {
         "name": "Company",
         "dtype": "object",
         "stats": {
          "unique_count": 2,
          "nan_count": 0,
          "categories": [
           {
            "name": "Amazon",
            "count": 1
           },
           {
            "name": "Apple incl. Online",
            "count": 1
           }
          ]
         }
        },
        {
         "name": "Sales",
         "dtype": "int64",
         "stats": {
          "unique_count": 2,
          "nan_count": 0,
          "min": "37664",
          "max": "71687",
          "histogram": [
           {
            "bin_start": 37664,
            "bin_end": 41066.3,
            "count": 1
           },
           {
            "bin_start": 41066.3,
            "bin_end": 44468.6,
            "count": 0
           },
           {
            "bin_start": 44468.6,
            "bin_end": 47870.9,
            "count": 0
           },
           {
            "bin_start": 47870.9,
            "bin_end": 51273.2,
            "count": 0
           },
           {
            "bin_start": 51273.2,
            "bin_end": 54675.5,
            "count": 0
           },
           {
            "bin_start": 54675.5,
            "bin_end": 58077.8,
            "count": 0
           },
           {
            "bin_start": 58077.8,
            "bin_end": 61480.100000000006,
            "count": 0
           },
           {
            "bin_start": 61480.100000000006,
            "bin_end": 64882.4,
            "count": 0
           },
           {
            "bin_start": 64882.4,
            "bin_end": 68284.7,
            "count": 0
           },
           {
            "bin_start": 68284.7,
            "bin_end": 71687,
            "count": 1
           }
          ]
         }
        },
        {
         "name": "Stores",
         "dtype": "float64",
         "stats": {
          "unique_count": 0,
          "nan_count": 2,
          "min": null,
          "max": null,
          "histogram": [
           {
            "bin_start": 0,
            "bin_end": 0.1,
            "count": 0
           },
           {
            "bin_start": 0.1,
            "bin_end": 0.2,
            "count": 0
           },
           {
            "bin_start": 0.2,
            "bin_end": 0.30000000000000004,
            "count": 0
           },
           {
            "bin_start": 0.30000000000000004,
            "bin_end": 0.4,
            "count": 0
           },
           {
            "bin_start": 0.4,
            "bin_end": 0.5,
            "count": 0
           },
           {
            "bin_start": 0.5,
            "bin_end": 0.6000000000000001,
            "count": 0
           },
           {
            "bin_start": 0.6000000000000001,
            "bin_end": 0.7000000000000001,
            "count": 0
           },
           {
            "bin_start": 0.7000000000000001,
            "bin_end": 0.8,
            "count": 0
           },
           {
            "bin_start": 0.8,
            "bin_end": 0.9,
            "count": 0
           },
           {
            "bin_start": 0.9,
            "bin_end": 1,
            "count": 0
           }
          ]
         }
        },
        {
         "name": "Sales/Avg. Store",
         "dtype": "float64",
         "stats": {
          "unique_count": 0,
          "nan_count": 2,
          "min": null,
          "max": null,
          "histogram": [
           {
            "bin_start": 0,
            "bin_end": 0.1,
            "count": 0
           },
           {
            "bin_start": 0.1,
            "bin_end": 0.2,
            "count": 0
           },
           {
            "bin_start": 0.2,
            "bin_end": 0.30000000000000004,
            "count": 0
           },
           {
            "bin_start": 0.30000000000000004,
            "bin_end": 0.4,
            "count": 0
           },
           {
            "bin_start": 0.4,
            "bin_end": 0.5,
            "count": 0
           },
           {
            "bin_start": 0.5,
            "bin_end": 0.6000000000000001,
            "count": 0
           },
           {
            "bin_start": 0.6000000000000001,
            "bin_end": 0.7000000000000001,
            "count": 0
           },
           {
            "bin_start": 0.7000000000000001,
            "bin_end": 0.8,
            "count": 0
           },
           {
            "bin_start": 0.8,
            "bin_end": 0.9,
            "count": 0
           },
           {
            "bin_start": 0.9,
            "bin_end": 1,
            "count": 0
           }
          ]
         }
        },
        {
         "name": "Store Count Growth",
         "dtype": "float64",
         "stats": {
          "unique_count": 0,
          "nan_count": 2,
          "min": null,
          "max": null,
          "histogram": [
           {
            "bin_start": 0,
            "bin_end": 0.1,
            "count": 0
           },
           {
            "bin_start": 0.1,
            "bin_end": 0.2,
            "count": 0
           },
           {
            "bin_start": 0.2,
            "bin_end": 0.30000000000000004,
            "count": 0
           },
           {
            "bin_start": 0.30000000000000004,
            "bin_end": 0.4,
            "count": 0
           },
           {
            "bin_start": 0.4,
            "bin_end": 0.5,
            "count": 0
           },
           {
            "bin_start": 0.5,
            "bin_end": 0.6000000000000001,
            "count": 0
           },
           {
            "bin_start": 0.6000000000000001,
            "bin_end": 0.7000000000000001,
            "count": 0
           },
           {
            "bin_start": 0.7000000000000001,
            "bin_end": 0.8,
            "count": 0
           },
           {
            "bin_start": 0.8,
            "bin_end": 0.9,
            "count": 0
           },
           {
            "bin_start": 0.9,
            "bin_end": 1,
            "count": 0
           }
          ]
         }
        },
        {
         "name": "Category",
         "dtype": "object",
         "stats": {
          "unique_count": 1,
          "nan_count": 1,
          "categories": [
           {
            "name": "Electronic/Mail Order",
            "count": 1
           },
           {
            "name": "Missing",
            "count": 1
           }
          ]
         }
        },
        {
         "name": "_deepnote_index_column",
         "dtype": "int64"
        }
       ],
       "rows": [
        {
         "Company": "Amazon",
         "Sales": 71687,
         "Stores": "nan",
         "Sales/Avg. Store": "nan",
         "Store Count Growth": "nan",
         "Category": "Electronic/Mail Order",
         "_deepnote_index_column": 6
        },
        {
         "Company": "Apple incl. Online",
         "Sales": 37664,
         "Stores": "nan",
         "Sales/Avg. Store": "nan",
         "Store Count Growth": "nan",
         "Category": "nan",
         "_deepnote_index_column": 11
        }
       ]
      },
      "text/plain": "               Company  Sales  Stores  Sales/Avg. Store  Store Count Growth  \\\n6               Amazon  71687     NaN               NaN                 NaN   \n11  Apple incl. Online  37664     NaN               NaN                 NaN   \n\n                 Category  \n6   Electronic/Mail Order  \n11                    NaN  ",
      "text/html": "<div>\n<style scoped>\n    .dataframe tbody tr th:only-of-type {\n        vertical-align: middle;\n    }\n\n    .dataframe tbody tr th {\n        vertical-align: top;\n    }\n\n    .dataframe thead th {\n        text-align: right;\n    }\n</style>\n<table border=\"1\" class=\"dataframe\">\n  <thead>\n    <tr style=\"text-align: right;\">\n      <th></th>\n      <th>Company</th>\n      <th>Sales</th>\n      <th>Stores</th>\n      <th>Sales/Avg. Store</th>\n      <th>Store Count Growth</th>\n      <th>Category</th>\n    </tr>\n  </thead>\n  <tbody>\n    <tr>\n      <th>6</th>\n      <td>Amazon</td>\n      <td>71687</td>\n      <td>NaN</td>\n      <td>NaN</td>\n      <td>NaN</td>\n      <td>Electronic/Mail Order</td>\n    </tr>\n    <tr>\n      <th>11</th>\n      <td>Apple incl. Online</td>\n      <td>37664</td>\n      <td>NaN</td>\n      <td>NaN</td>\n      <td>NaN</td>\n      <td>NaN</td>\n    </tr>\n  </tbody>\n</table>\n</div>"
     },
     "metadata": {}
    }
   ]
  },
  {
   "cell_type": "markdown",
   "source": "#### Encontramos que son:  <font color = 'firebrick'> Amazón y Apple incl. Online </font>\n\n#### Grafiquemos ahora para saber si sus ventas destacan sobre quienes tienen Tienda Física: ",
   "metadata": {
    "cell_id": "cce3ca38-9462-48ed-aaac-bc4647ddc22f",
    "tags": [],
    "deepnote_cell_type": "markdown"
   }
  },
  {
   "cell_type": "code",
   "metadata": {
    "cell_id": "ea5c0a1d-ff1e-4dd2-b302-c6aca6e83ee5",
    "tags": [],
    "deepnote_to_be_reexecuted": false,
    "source_hash": "14af6873",
    "execution_start": 1645567396274,
    "execution_millis": 1464,
    "deepnote_cell_type": "code"
   },
   "source": "f, axes = plt.subplots(1, 2,figsize = (16,9))\nsns.barplot(x= df['Sales'], y= 'Company', data= df, ax= axes[0], color='lightgray')\naxes[0].set_title('Ventas por empresas ')\naxes[0].patches[6].set_facecolor('indianred')\naxes[0].patches[11].set_facecolor('indianred')\nsns.barplot(x= venta_online['Sales'], y= 'Company', data= venta_online, ax=axes[1], color='lightgray')\naxes[1].set_title('Empresas con ventas online')\naxes[1].patches[0].set_facecolor('indianred')\naxes[1].patches[1].set_facecolor('indianred')\nplt.show()\n",
   "execution_count": null,
   "outputs": [
    {
     "data": {
      "text/plain": "<Figure size 1152x648 with 2 Axes>",
      "image/png": "[encoded data removed]"
     },
     "metadata": {
      "image/png": {
       "width": 1016,
       "height": 550
      }
     },
     "output_type": "display_data"
    }
   ]
  },
  {
   "cell_type": "markdown",
   "source": "#### ➡️ Como vemos Apple está por <font color='firebrick'>encima de 13 compañías con Tienda Física. </font>\n#### ➡️ Amazon está por <font color='firebrick'> encima de 18 compañías con Tienda Física.",
   "metadata": {
    "cell_id": "5bdabc1e-a70d-42f5-8a9b-83bd686a5913",
    "tags": [],
    "deepnote_cell_type": "markdown"
   }
  },
  {
   "cell_type": "markdown",
   "source": "<br>",
   "metadata": {
    "cell_id": "0b14dc00-d3b3-4a53-b483-b968c931cd30",
    "tags": [],
    "deepnote_cell_type": "markdown"
   }
  },
  {
   "cell_type": "markdown",
   "source": "<hr style=\"height:1.5px;border-width:0;color:black;background-color:gray\">",
   "metadata": {
    "cell_id": "f874d2a9-bafa-4181-b8b5-7d60df7eeb7d",
    "tags": [],
    "deepnote_cell_type": "markdown"
   }
  },
  {
   "cell_type": "markdown",
   "source": "## III. Tus propias preguntas",
   "metadata": {
    "cell_id": "58c80612-3fb2-4c71-9aab-813b121430a0",
    "tags": [],
    "deepnote_cell_type": "markdown",
    "deepnote_cell_height": 70
   }
  },
  {
   "cell_type": "markdown",
   "source": "### 10. ¿Cuál es la compañía que más vendió en la categoría 'Grocery'?",
   "metadata": {
    "cell_id": "83e0e566-969d-4872-b32d-915ac945a370",
    "tags": [],
    "deepnote_cell_type": "markdown",
    "deepnote_cell_height": 62
   }
  },
  {
   "cell_type": "markdown",
   "source": "#### Revisemos cuales son las compañías que pertenecen a la categoría <font color= 'firebrick'> Grocery:",
   "metadata": {
    "cell_id": "a0f24b95-0603-43a0-9f00-0356b7b91990",
    "tags": [],
    "deepnote_cell_type": "markdown"
   }
  },
  {
   "cell_type": "code",
   "metadata": {
    "cell_id": "52ea290f-004f-4aaa-8e1a-0d0908996b0a",
    "tags": [],
    "deepnote_to_be_reexecuted": false,
    "source_hash": "fc9b27ee",
    "execution_start": 1645586174924,
    "execution_millis": 91,
    "deepnote_cell_type": "code",
    "deepnote_cell_height": 66
   },
   "source": "grocery_cat = df.loc[df['Category'] == 'Grocery']\ngrocery_cat",
   "execution_count": null,
   "outputs": [
    {
     "output_type": "execute_result",
     "execution_count": 261,
     "data": {
      "application/vnd.deepnote.dataframe.v3+json": {
       "column_count": 7,
       "row_count": 7,
       "columns": [
        {
         "name": "Company",
         "dtype": "object",
         "stats": {
          "unique_count": 7,
          "nan_count": 0,
          "categories": [
           {
            "name": "Kroger",
            "count": 1
           },
           {
            "name": "Albertsons",
            "count": 1
           },
           {
            "name": "5 others",
            "count": 5
           }
          ]
         }
        },
        {
         "name": "Sales",
         "dtype": "int64",
         "stats": {
          "unique_count": 7,
          "nan_count": 0,
          "min": "18201",
          "max": "115037",
          "histogram": [
           {
            "bin_start": 18201,
            "bin_end": 27884.6,
            "count": 4
           },
           {
            "bin_start": 27884.6,
            "bin_end": 37568.2,
            "count": 1
           },
           {
            "bin_start": 37568.2,
            "bin_end": 47251.8,
            "count": 0
           },
           {
            "bin_start": 47251.8,
            "bin_end": 56935.4,
            "count": 1
           },
           {
            "bin_start": 56935.4,
            "bin_end": 66619,
            "count": 0
           },
           {
            "bin_start": 66619,
            "bin_end": 76302.6,
            "count": 0
           },
           {
            "bin_start": 76302.6,
            "bin_end": 85986.2,
            "count": 0
           },
           {
            "bin_start": 85986.2,
            "bin_end": 95669.8,
            "count": 0
           },
           {
            "bin_start": 95669.8,
            "bin_end": 105353.40000000001,
            "count": 0
           },
           {
            "bin_start": 105353.40000000001,
            "bin_end": 115037,
            "count": 1
           }
          ]
         }
        },
        {
         "name": "Stores",
         "dtype": "float64",
         "stats": {
          "unique_count": 7,
          "nan_count": 0,
          "min": "323.0",
          "max": "3931.0",
          "histogram": [
           {
            "bin_start": 323,
            "bin_end": 683.8,
            "count": 1
           },
           {
            "bin_start": 683.8,
            "bin_end": 1044.6,
            "count": 1
           },
           {
            "bin_start": 1044.6,
            "bin_end": 1405.4,
            "count": 2
           },
           {
            "bin_start": 1405.4,
            "bin_end": 1766.2,
            "count": 0
           },
           {
            "bin_start": 1766.2,
            "bin_end": 2127,
            "count": 1
           },
           {
            "bin_start": 2127,
            "bin_end": 2487.8,
            "count": 1
           },
           {
            "bin_start": 2487.8,
            "bin_end": 2848.6,
            "count": 0
           },
           {
            "bin_start": 2848.6,
            "bin_end": 3209.4,
            "count": 0
           },
           {
            "bin_start": 3209.4,
            "bin_end": 3570.2000000000003,
            "count": 0
           },
           {
            "bin_start": 3570.2000000000003,
            "bin_end": 3931,
            "count": 1
           }
          ]
         }
        },
        {
         "name": "Sales/Avg. Store",
         "dtype": "float64",
         "stats": {
          "unique_count": 7,
          "nan_count": 0,
          "min": "12.71599792",
          "max": "66.825",
          "histogram": [
           {
            "bin_start": 12.71599792,
            "bin_end": 18.126898128,
            "count": 2
           },
           {
            "bin_start": 18.126898128,
            "bin_end": 23.537798336,
            "count": 0
           },
           {
            "bin_start": 23.537798336,
            "bin_end": 28.948698544,
            "count": 2
           },
           {
            "bin_start": 28.948698544,
            "bin_end": 34.359598752,
            "count": 1
           },
           {
            "bin_start": 34.359598752,
            "bin_end": 39.77049896,
            "count": 1
           },
           {
            "bin_start": 39.77049896,
            "bin_end": 45.181399168,
            "count": 0
           },
           {
            "bin_start": 45.181399168,
            "bin_end": 50.592299376,
            "count": 0
           },
           {
            "bin_start": 50.592299376,
            "bin_end": 56.003199584,
            "count": 0
           },
           {
            "bin_start": 56.003199584,
            "bin_end": 61.414099792,
            "count": 0
           },
           {
            "bin_start": 61.414099792,
            "bin_end": 66.825,
            "count": 1
           }
          ]
         }
        },
        {
         "name": "Store Count Growth",
         "dtype": "float64",
         "stats": {
          "unique_count": 7,
          "nan_count": 0,
          "min": "-0.05951506245",
          "max": "0.1122729774",
          "histogram": [
           {
            "bin_start": -0.05951506245,
            "bin_end": -0.042336258465,
            "count": 2
           },
           {
            "bin_start": -0.042336258465,
            "bin_end": -0.02515745448,
            "count": 0
           },
           {
            "bin_start": -0.02515745448,
            "bin_end": -0.007978650495000003,
            "count": 0
           },
           {
            "bin_start": -0.007978650495000003,
            "bin_end": 0.009200153490000001,
            "count": 0
           },
           {
            "bin_start": 0.009200153490000001,
            "bin_end": 0.026378957475000006,
            "count": 1
           },
           {
            "bin_start": 0.026378957475000006,
            "bin_end": 0.04355776146,
            "count": 2
           },
           {
            "bin_start": 0.04355776146,
            "bin_end": 0.060736565445,
            "count": 1
           },
           {
            "bin_start": 0.060736565445,
            "bin_end": 0.07791536943,
            "count": 0
           },
           {
            "bin_start": 0.07791536943,
            "bin_end": 0.095094173415,
            "count": 0
           },
           {
            "bin_start": 0.095094173415,
            "bin_end": 0.1122729774,
            "count": 1
           }
          ]
         }
        },
        {
         "name": "Category",
         "dtype": "object",
         "stats": {
          "unique_count": 1,
          "nan_count": 0,
          "categories": [
           {
            "name": "Grocery",
            "count": 7
           }
          ]
         }
        },
        {
         "name": "Dollar Amount",
         "dtype": "object",
         "stats": {
          "unique_count": 7,
          "nan_count": 0,
          "categories": [
           {
            "name": "115,037",
            "count": 1
           },
           {
            "name": "56,829",
            "count": 1
           },
           {
            "name": "5 others",
            "count": 5
           }
          ]
         }
        },
        {
         "name": "_deepnote_index_column",
         "dtype": "int64"
        }
       ],
       "rows": [
        {
         "Company": "Kroger",
         "Sales": 115037,
         "Stores": 3931,
         "Sales/Avg. Store": 30.03184963,
         "Store Count Growth": 0.05388739946,
         "Category": "Grocery",
         "Dollar Amount": "115,037",
         "_deepnote_index_column": 1
        },
        {
         "Company": "Albertsons",
         "Sales": 56829,
         "Stores": 2326,
         "Sales/Avg. Store": 23.87773109,
         "Store Count Growth": -0.04437140509,
         "Category": "Grocery",
         "Dollar Amount": "56,829",
         "_deepnote_index_column": 9
        },
        {
         "Company": "Publix",
         "Sales": 34408,
         "Stores": 1351,
         "Sales/Avg. Store": 25.99773328,
         "Store Count Growth": 0.0424382716,
         "Category": "Grocery",
         "Dollar Amount": "34,408",
         "_deepnote_index_column": 13
        },
        {
         "Company": "Ahold",
         "Sales": 26903,
         "Stores": 794,
         "Sales/Avg. Store": 34.446863,
         "Store Count Growth": 0.03385416667,
         "Category": "Grocery",
         "Dollar Amount": "26,903",
         "_deepnote_index_column": 15
        },
        {
         "Company": "Aldi",
         "Sales": 24402,
         "Stores": 2021,
         "Sales/Avg. Store": 12.71599792,
         "Store Count Growth": 0.1122729774,
         "Category": "Grocery",
         "Dollar Amount": "24,402",
         "_deepnote_index_column": 18
        },
        {
         "Company": "HEB",
         "Sales": 21384,
         "Stores": 323,
         "Sales/Avg. Store": 66.825,
         "Store Count Growth": 0.01892744479,
         "Category": "Grocery",
         "Dollar Amount": "21,384",
         "_deepnote_index_column": 21
        },
        {
         "Company": "Delhaize",
         "Sales": 18201,
         "Stores": 1280,
         "Sales/Avg. Store": 13.78341537,
         "Store Count Growth": -0.05951506245,
         "Category": "Grocery",
         "Dollar Amount": "18,201",
         "_deepnote_index_column": 23
        }
       ]
      },
      "text/plain": "       Company   Sales  Stores  Sales/Avg. Store  Store Count Growth Category  \\\n1       Kroger  115037  3931.0         30.031850            0.053887  Grocery   \n9   Albertsons   56829  2326.0         23.877731           -0.044371  Grocery   \n13      Publix   34408  1351.0         25.997733            0.042438  Grocery   \n15       Ahold   26903   794.0         34.446863            0.033854  Grocery   \n18        Aldi   24402  2021.0         12.715998            0.112273  Grocery   \n21         HEB   21384   323.0         66.825000            0.018927  Grocery   \n23    Delhaize   18201  1280.0         13.783415           -0.059515  Grocery   \n\n   Dollar Amount  \n1        115,037  \n9         56,829  \n13        34,408  \n15        26,903  \n18        24,402  \n21        21,384  \n23        18,201  ",
      "text/html": "<div>\n<style scoped>\n    .dataframe tbody tr th:only-of-type {\n        vertical-align: middle;\n    }\n\n    .dataframe tbody tr th {\n        vertical-align: top;\n    }\n\n    .dataframe thead th {\n        text-align: right;\n    }\n</style>\n<table border=\"1\" class=\"dataframe\">\n  <thead>\n    <tr style=\"text-align: right;\">\n      <th></th>\n      <th>Company</th>\n      <th>Sales</th>\n      <th>Stores</th>\n      <th>Sales/Avg. Store</th>\n      <th>Store Count Growth</th>\n      <th>Category</th>\n      <th>Dollar Amount</th>\n    </tr>\n  </thead>\n  <tbody>\n    <tr>\n      <th>1</th>\n      <td>Kroger</td>\n      <td>115037</td>\n      <td>3931.0</td>\n      <td>30.031850</td>\n      <td>0.053887</td>\n      <td>Grocery</td>\n      <td>115,037</td>\n    </tr>\n    <tr>\n      <th>9</th>\n      <td>Albertsons</td>\n      <td>56829</td>\n      <td>2326.0</td>\n      <td>23.877731</td>\n      <td>-0.044371</td>\n      <td>Grocery</td>\n      <td>56,829</td>\n    </tr>\n    <tr>\n      <th>13</th>\n      <td>Publix</td>\n      <td>34408</td>\n      <td>1351.0</td>\n      <td>25.997733</td>\n      <td>0.042438</td>\n      <td>Grocery</td>\n      <td>34,408</td>\n    </tr>\n    <tr>\n      <th>15</th>\n      <td>Ahold</td>\n      <td>26903</td>\n      <td>794.0</td>\n      <td>34.446863</td>\n      <td>0.033854</td>\n      <td>Grocery</td>\n      <td>26,903</td>\n    </tr>\n    <tr>\n      <th>18</th>\n      <td>Aldi</td>\n      <td>24402</td>\n      <td>2021.0</td>\n      <td>12.715998</td>\n      <td>0.112273</td>\n      <td>Grocery</td>\n      <td>24,402</td>\n    </tr>\n    <tr>\n      <th>21</th>\n      <td>HEB</td>\n      <td>21384</td>\n      <td>323.0</td>\n      <td>66.825000</td>\n      <td>0.018927</td>\n      <td>Grocery</td>\n      <td>21,384</td>\n    </tr>\n    <tr>\n      <th>23</th>\n      <td>Delhaize</td>\n      <td>18201</td>\n      <td>1280.0</td>\n      <td>13.783415</td>\n      <td>-0.059515</td>\n      <td>Grocery</td>\n      <td>18,201</td>\n    </tr>\n  </tbody>\n</table>\n</div>"
     },
     "metadata": {}
    }
   ]
  },
  {
   "cell_type": "markdown",
   "source": "#### Ahora grafiquemos las compañías de categoría <font color= 'firebrick'>Grocery </font>para ver cual vendió más:",
   "metadata": {
    "cell_id": "6f0ea25d-dd3b-4d9a-8afa-05c254a95163",
    "tags": [],
    "deepnote_cell_type": "markdown"
   }
  },
  {
   "cell_type": "code",
   "metadata": {
    "cell_id": "4535b6b6-de9b-4ec9-9794-f67825765e95",
    "tags": [],
    "deepnote_to_be_reexecuted": false,
    "source_hash": "97185d4d",
    "execution_start": 1645586640379,
    "execution_millis": 656,
    "deepnote_cell_type": "code"
   },
   "source": "sns.barplot( x= grocery_cat['Sales'], y = grocery_cat['Company'], data = grocery_cat)",
   "execution_count": null,
   "outputs": [
    {
     "output_type": "execute_result",
     "execution_count": 263,
     "data": {
      "text/plain": "<AxesSubplot:xlabel='Sales', ylabel='Company'>"
     },
     "metadata": {}
    },
    {
     "data": {
      "text/plain": "<Figure size 842.4x595.44 with 1 Axes>",
      "image/png": "[encoded data removed]"
     },
     "metadata": {
      "image/png": {
       "width": 769,
       "height": 500
      }
     },
     "output_type": "display_data"
    }
   ]
  },
  {
   "cell_type": "markdown",
   "source": "#### ➡️ Como vemos <font color='firebrick'>Kroger </font> es la compañía con mayor cantidad de Ventas en la Categoría Grocery.",
   "metadata": {
    "cell_id": "04a6786e-fd39-4b41-b85c-0ecae003e4db",
    "tags": [],
    "deepnote_to_be_reexecuted": true,
    "source_hash": "b623e53d",
    "execution_start": 1645553057641,
    "execution_millis": 0,
    "deepnote_cell_type": "markdown",
    "deepnote_cell_height": 66
   }
  },
  {
   "cell_type": "markdown",
   "source": "<br>",
   "metadata": {
    "cell_id": "235f1e13-bafe-4149-8735-bfc31e5c081c",
    "tags": [],
    "deepnote_cell_type": "markdown"
   }
  },
  {
   "cell_type": "markdown",
   "source": "<hr style=\"height:1.5px;border-width:0;color:black;background-color:gray\">",
   "metadata": {
    "cell_id": "aba83b85-49b2-48df-96b0-1d6b2da8fafd",
    "tags": [],
    "deepnote_cell_type": "markdown"
   }
  },
  {
   "cell_type": "markdown",
   "source": "### 11. ¿Cuál es la compañía que más vendió en la categoría 'Drugstore'?",
   "metadata": {
    "cell_id": "fa60966b-7d95-43f0-9a1e-201f1373f1be",
    "tags": [],
    "deepnote_cell_type": "markdown",
    "deepnote_cell_height": 62
   }
  },
  {
   "cell_type": "markdown",
   "source": "#### Revisemos cuales son las compañías que venden en la categoría 'Drugstores': ",
   "metadata": {
    "cell_id": "367f38ee-201e-4dd1-8638-f8e2e97d4c4b",
    "tags": [],
    "deepnote_cell_type": "markdown"
   }
  },
  {
   "cell_type": "code",
   "metadata": {
    "cell_id": "eb121f54-ce98-4648-a886-c6c20419f9e2",
    "tags": [],
    "deepnote_to_be_reexecuted": false,
    "source_hash": "d74c8bb2",
    "execution_start": 1645587035973,
    "execution_millis": 148,
    "deepnote_cell_type": "code"
   },
   "source": "drug_stores = df.loc[df['Category'] == 'Drug Stores']\ndrug_stores",
   "execution_count": null,
   "outputs": [
    {
     "output_type": "execute_result",
     "execution_count": 267,
     "data": {
      "application/vnd.deepnote.dataframe.v3+json": {
       "column_count": 7,
       "row_count": 3,
       "columns": [
        {
         "name": "Company",
         "dtype": "object",
         "stats": {
          "unique_count": 3,
          "nan_count": 0,
          "categories": [
           {
            "name": "Walgreen Boots",
            "count": 1
           },
           {
            "name": "CVS incl. Target",
            "count": 1
           },
           {
            "name": "Rite Aid",
            "count": 1
           }
          ]
         }
        },
        {
         "name": "Sales",
         "dtype": "int64",
         "stats": {
          "unique_count": 3,
          "nan_count": 0,
          "min": "27486",
          "max": "78924",
          "histogram": [
           {
            "bin_start": 27486,
            "bin_end": 32629.8,
            "count": 1
           },
           {
            "bin_start": 32629.8,
            "bin_end": 37773.6,
            "count": 0
           },
           {
            "bin_start": 37773.6,
            "bin_end": 42917.4,
            "count": 0
           },
           {
            "bin_start": 42917.4,
            "bin_end": 48061.2,
            "count": 0
           },
           {
            "bin_start": 48061.2,
            "bin_end": 53205,
            "count": 0
           },
           {
            "bin_start": 53205,
            "bin_end": 58348.8,
            "count": 0
           },
           {
            "bin_start": 58348.8,
            "bin_end": 63492.6,
            "count": 0
           },
           {
            "bin_start": 63492.6,
            "bin_end": 68636.4,
            "count": 0
           },
           {
            "bin_start": 68636.4,
            "bin_end": 73780.20000000001,
            "count": 0
           },
           {
            "bin_start": 73780.20000000001,
            "bin_end": 78924,
            "count": 2
           }
          ]
         }
        },
        {
         "name": "Stores",
         "dtype": "float64",
         "stats": {
          "unique_count": 3,
          "nan_count": 0,
          "min": "4553.0",
          "max": "9813.0",
          "histogram": [
           {
            "bin_start": 4553,
            "bin_end": 5079,
            "count": 1
           },
           {
            "bin_start": 5079,
            "bin_end": 5605,
            "count": 0
           },
           {
            "bin_start": 5605,
            "bin_end": 6131,
            "count": 0
           },
           {
            "bin_start": 6131,
            "bin_end": 6657,
            "count": 0
           },
           {
            "bin_start": 6657,
            "bin_end": 7183,
            "count": 0
           },
           {
            "bin_start": 7183,
            "bin_end": 7709,
            "count": 0
           },
           {
            "bin_start": 7709,
            "bin_end": 8235,
            "count": 1
           },
           {
            "bin_start": 8235,
            "bin_end": 8761,
            "count": 0
           },
           {
            "bin_start": 8761,
            "bin_end": 9287,
            "count": 0
           },
           {
            "bin_start": 9287,
            "bin_end": 9813,
            "count": 1
           }
          ]
         }
        },
        {
         "name": "Sales/Avg. Store",
         "dtype": "float64",
         "stats": {
          "unique_count": 3,
          "nan_count": 0,
          "min": "6.025649457",
          "max": "9.81092672",
          "histogram": [
           {
            "bin_start": 6.025649457,
            "bin_end": 6.4041771833,
            "count": 1
           },
           {
            "bin_start": 6.4041771833,
            "bin_end": 6.7827049096,
            "count": 0
           },
           {
            "bin_start": 6.7827049096,
            "bin_end": 7.161232635899999,
            "count": 0
           },
           {
            "bin_start": 7.161232635899999,
            "bin_end": 7.5397603622,
            "count": 0
           },
           {
            "bin_start": 7.5397603622,
            "bin_end": 7.9182880885,
            "count": 0
           },
           {
            "bin_start": 7.9182880885,
            "bin_end": 8.296815814799999,
            "count": 0
           },
           {
            "bin_start": 8.296815814799999,
            "bin_end": 8.6753435411,
            "count": 0
           },
           {
            "bin_start": 8.6753435411,
            "bin_end": 9.0538712674,
            "count": 1
           },
           {
            "bin_start": 9.0538712674,
            "bin_end": 9.4323989937,
            "count": 0
           },
           {
            "bin_start": 9.4323989937,
            "bin_end": 9.81092672,
            "count": 1
           }
          ]
         }
        },
        {
         "name": "Store Count Growth",
         "dtype": "float64",
         "stats": {
          "unique_count": 3,
          "nan_count": 0,
          "min": "-0.01051069618",
          "max": "0.2556621881",
          "histogram": [
           {
            "bin_start": -0.01051069618,
            "bin_end": 0.016106592248000005,
            "count": 2
           },
           {
            "bin_start": 0.016106592248000005,
            "bin_end": 0.042723880676000005,
            "count": 0
           },
           {
            "bin_start": 0.042723880676000005,
            "bin_end": 0.06934116910400001,
            "count": 0
           },
           {
            "bin_start": 0.06934116910400001,
            "bin_end": 0.09595845753200001,
            "count": 0
           },
           {
            "bin_start": 0.09595845753200001,
            "bin_end": 0.12257574596000001,
            "count": 0
           },
           {
            "bin_start": 0.12257574596000001,
            "bin_end": 0.14919303438800002,
            "count": 0
           },
           {
            "bin_start": 0.14919303438800002,
            "bin_end": 0.175810322816,
            "count": 0
           },
           {
            "bin_start": 0.175810322816,
            "bin_end": 0.20242761124400002,
            "count": 0
           },
           {
            "bin_start": 0.20242761124400002,
            "bin_end": 0.22904489967200004,
            "count": 0
           },
           {
            "bin_start": 0.22904489967200004,
            "bin_end": 0.2556621881,
            "count": 1
           }
          ]
         }
        },
        {
         "name": "Category",
         "dtype": "object",
         "stats": {
          "unique_count": 1,
          "nan_count": 0,
          "categories": [
           {
            "name": "Drug Stores",
            "count": 3
           }
          ]
         }
        },
        {
         "name": "Dollar Amount",
         "dtype": "object",
         "stats": {
          "unique_count": 3,
          "nan_count": 0,
          "categories": [
           {
            "name": "78,924",
            "count": 1
           },
           {
            "name": "77,792",
            "count": 1
           },
           {
            "name": "27,486",
            "count": 1
           }
          ]
         }
        },
        {
         "name": "_deepnote_index_column",
         "dtype": "int64"
        }
       ],
       "rows": [
        {
         "Company": "Walgreen Boots",
         "Sales": 78924,
         "Stores": 8002,
         "Sales/Avg. Store": 9.81092672,
         "Store Count Growth": -0.01051069618,
         "Category": "Drug Stores",
         "Dollar Amount": "78,924",
         "_deepnote_index_column": 4
        },
        {
         "Company": "CVS incl. Target",
         "Sales": 77792,
         "Stores": 9813,
         "Sales/Avg. Store": 8.825958702,
         "Store Count Growth": 0.2556621881,
         "Category": "Drug Stores",
         "Dollar Amount": "77,792",
         "_deepnote_index_column": 5
        },
        {
         "Company": "Rite Aid",
         "Sales": 27486,
         "Stores": 4553,
         "Sales/Avg. Store": 6.025649457,
         "Store Count Growth": -0.003719912473,
         "Category": "Drug Stores",
         "Dollar Amount": "27,486",
         "_deepnote_index_column": 14
        }
       ]
      },
      "text/plain": "             Company  Sales  Stores  Sales/Avg. Store  Store Count Growth  \\\n4     Walgreen Boots  78924  8002.0          9.810927           -0.010511   \n5   CVS incl. Target  77792  9813.0          8.825959            0.255662   \n14          Rite Aid  27486  4553.0          6.025649           -0.003720   \n\n       Category Dollar Amount  \n4   Drug Stores        78,924  \n5   Drug Stores        77,792  \n14  Drug Stores        27,486  ",
      "text/html": "<div>\n<style scoped>\n    .dataframe tbody tr th:only-of-type {\n        vertical-align: middle;\n    }\n\n    .dataframe tbody tr th {\n        vertical-align: top;\n    }\n\n    .dataframe thead th {\n        text-align: right;\n    }\n</style>\n<table border=\"1\" class=\"dataframe\">\n  <thead>\n    <tr style=\"text-align: right;\">\n      <th></th>\n      <th>Company</th>\n      <th>Sales</th>\n      <th>Stores</th>\n      <th>Sales/Avg. Store</th>\n      <th>Store Count Growth</th>\n      <th>Category</th>\n      <th>Dollar Amount</th>\n    </tr>\n  </thead>\n  <tbody>\n    <tr>\n      <th>4</th>\n      <td>Walgreen Boots</td>\n      <td>78924</td>\n      <td>8002.0</td>\n      <td>9.810927</td>\n      <td>-0.010511</td>\n      <td>Drug Stores</td>\n      <td>78,924</td>\n    </tr>\n    <tr>\n      <th>5</th>\n      <td>CVS incl. Target</td>\n      <td>77792</td>\n      <td>9813.0</td>\n      <td>8.825959</td>\n      <td>0.255662</td>\n      <td>Drug Stores</td>\n      <td>77,792</td>\n    </tr>\n    <tr>\n      <th>14</th>\n      <td>Rite Aid</td>\n      <td>27486</td>\n      <td>4553.0</td>\n      <td>6.025649</td>\n      <td>-0.003720</td>\n      <td>Drug Stores</td>\n      <td>27,486</td>\n    </tr>\n  </tbody>\n</table>\n</div>"
     },
     "metadata": {}
    }
   ]
  },
  {
   "cell_type": "markdown",
   "source": "#### Ahora grafiquemos para hallar cuál vendió más:",
   "metadata": {
    "cell_id": "10886a6f-71ab-434b-8c5b-6a1050de471e",
    "tags": [],
    "deepnote_cell_type": "markdown"
   }
  },
  {
   "cell_type": "code",
   "metadata": {
    "cell_id": "38214b24-6dc5-4ad0-865b-ede3a0acd6e9",
    "tags": [],
    "deepnote_to_be_reexecuted": false,
    "source_hash": "7db1cf37",
    "execution_start": 1645587125050,
    "execution_millis": 646,
    "deepnote_cell_type": "code"
   },
   "source": "sns.barplot( x= drug_stores['Sales'], y = drug_stores['Company'], data = drug_stores)",
   "execution_count": null,
   "outputs": [
    {
     "output_type": "execute_result",
     "execution_count": 268,
     "data": {
      "text/plain": "<AxesSubplot:xlabel='Sales', ylabel='Company'>"
     },
     "metadata": {}
    },
    {
     "data": {
      "text/plain": "<Figure size 842.4x595.44 with 1 Axes>",
      "image/png": "[encoded data removed]"
     },
     "metadata": {
      "image/png": {
       "width": 780,
       "height": 500
      }
     },
     "output_type": "display_data"
    }
   ]
  },
  {
   "cell_type": "markdown",
   "source": "#### ➡️ Como vemos la compañía que más vendió dentro de la categoría Drug Stores es: <font color ='firebrick'> Walgreen Boots. </font> \n#### ➡️ Le sigue por muy cerca <font color = 'firebrick'> CVS incl. Target </font>",
   "metadata": {
    "cell_id": "51217448-3f3b-49df-a83b-4af75051fa4e",
    "tags": [],
    "deepnote_cell_type": "markdown"
   }
  },
  {
   "cell_type": "markdown",
   "source": "<hr style=\"height:1.5px;border-width:0;color:black;background-color:gray\">",
   "metadata": {
    "cell_id": "b168ad4f-adf7-4f82-9126-461a1fc64b84",
    "tags": [],
    "deepnote_to_be_reexecuted": true,
    "source_hash": "b623e53d",
    "execution_start": 1645553057642,
    "execution_millis": 1407144,
    "deepnote_cell_type": "markdown",
    "deepnote_cell_height": 66
   }
  },
  {
   "cell_type": "markdown",
   "source": "                                                                    Si llegaste hasta aquí, gracias por revisar el informe 😊\n                                                                                                            Fernanda Arteaga",
   "metadata": {
    "cell_id": "7a544866-4ea5-43ed-bb81-0a970d48685b",
    "tags": [],
    "deepnote_cell_type": "markdown"
   }
  },
  {
   "cell_type": "markdown",
   "source": "<a style='text-decoration:none;line-height:16px;display:flex;color:#5B5B62;padding:10px;justify-content:end;' href='https://deepnote.com?utm_source=created-in-deepnote-cell&projectId=2251fd77-bad9-4804-b50d-6d78247f75a4' target=\"_blank\">\n<img alt='Created in deepnote.com' style='display:inline;max-height:16px;margin:0px;margin-right:7.5px;' src='data:image/svg+xml;base64,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' > </img>\nCreated in <span style='font-weight:600;margin-left:4px;'>Deepnote</span></a>",
   "metadata": {
    "tags": [],
    "created_in_deepnote_cell": true,
    "deepnote_cell_type": "markdown"
   }
  }
 ],
 "nbformat": 4,
 "nbformat_minor": 2,
 "metadata": {
  "orig_nbformat": 2,
  "deepnote": {
   "is_reactive": false
  },
  "deepnote_notebook_id": "85b76ea9-ace4-4c85-8b21-59120be91703",
  "deepnote_execution_queue": []
 }
}